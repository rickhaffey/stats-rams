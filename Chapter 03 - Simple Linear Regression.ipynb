{
 "cells": [
  {
   "cell_type": "markdown",
   "metadata": {},
   "source": [
    "# Chapter 03 - Simple Linear Regression"
   ]
  },
  {
   "cell_type": "markdown",
   "metadata": {},
   "source": [
    "## Simple Linear Regression\n",
    "\n",
    "* Simple linear (straight-line) models\n",
    "* Method of least squares\n",
    "\n",
    "#### Question\n",
    "\n",
    "Given a dependent variable, and a single independent variable, does an exact (deterministic) relationship exist between them?\n",
    "\n",
    "* Typically two factors underlying an answer of \"No\":\n",
    "\t* The dependent variable depends on other, additional independent variables not included in the model.\n",
    "    * There is variation in the dependent variable due to strictly random phenomena that cannot be modeled or explained.\n",
    "\n",
    "\n",
    "\\begin{equation}\n",
    "y = E(y) + \\epsilon\n",
    "\\end{equation}\n",
    "\n",
    "* $\\epsilon$ : represents all unexplained variation caused by important but omitted variables and unexplainable random phenomena"
   ]
  },
  {
   "cell_type": "markdown",
   "metadata": {},
   "source": [
    "### First-Order Linear (straight-line) Model\n",
    "\n",
    "\\begin{equation}\n",
    "y = \\beta_0 + \\beta_1x + \\epsilon\n",
    "\\end{equation}\n",
    "  \n",
    "* $y$ : dependent variable\n",
    "* $x$ : independent variable\n",
    "* $E(y) = \\beta_0 + \\beta_1x$ : deterministic component\n",
    "  * \"line of means\"\n",
    "* $\\epsilon$ : random error component\n",
    "* $\\beta_0$ : y-intercept of the line\n",
    "* $\\beta_1$ : slope of the line"
   ]
  },
  {
   "cell_type": "markdown",
   "metadata": {},
   "source": [
    "<div class=\"alert alert-info\">\n",
    "<b>Best Practice:</b> Generate a scatterplot of $x$ against $y$ to gain some information on the relationship and approximate values of the $\\beta$ parameters.\n",
    "</div>"
   ]
  },
  {
   "cell_type": "code",
   "execution_count": 2,
   "metadata": {
    "collapsed": true
   },
   "outputs": [],
   "source": [
    "import numpy as np\n",
    "import pandas as pd\n",
    "import scipy.stats as st\n",
    "import matplotlib.pyplot as plt\n",
    "import math\n",
    "\n",
    "from pandas import Series,DataFrame\n",
    "\n",
    "import seaborn as sns\n",
    "%matplotlib inline\n",
    "sns.set_style('whitegrid')"
   ]
  },
  {
   "cell_type": "code",
   "execution_count": 3,
   "metadata": {
    "collapsed": true
   },
   "outputs": [],
   "source": [
    "# load the data\n",
    "datapath = \"./data/ch03/warehouse.dat\"\n",
    "df = pd.read_fwf(datapath, names=[\"vehicles\", \"time\"], colspecs=\"infer\")\n",
    "\n",
    "# define the independent and dependent variables\n",
    "xCol = 'vehicles'\n",
    "yCol = 'time'"
   ]
  },
  {
   "cell_type": "code",
   "execution_count": 4,
   "metadata": {
    "collapsed": false
   },
   "outputs": [
    {
     "data": {
      "image/png": "[encoded data removed]",
      "text/plain": [
       "<matplotlib.figure.Figure at 0x119fc7be0>"
      ]
     },
     "metadata": {},
     "output_type": "display_data"
    }
   ],
   "source": [
    "figure1 = plt.scatter(df[xCol], df[yCol])\n",
    "plt.xlabel(xCol)\n",
    "plt.ylabel(yCol)\n",
    "plt.title(\"warehouse data\");"
   ]
  },
  {
   "cell_type": "markdown",
   "metadata": {},
   "source": [
    "### Residuals\n",
    "\n",
    "Given a straight line on the scatterplot, **residuals** are errors of prediction, the difference between each observed and predicted value of $y$.\n",
    "\n",
    "* \"residual\" = \"deviation\" = \"error\"  \n",
    "\n",
    "#### $i$th residual\n",
    "\\begin{equation}\n",
    "(y_i - \\hat{y}_i) = y_i - (\\hat{\\beta}_0 + \\hat{\\beta}_1x_i)\n",
    "\\end{equation}\n",
    "\n",
    "#### SE\n",
    "\\begin{equation}\n",
    "\\sum_{i=1}^n (y_i - \\hat{y}_i)\n",
    "\\end{equation}\n",
    "\n",
    "* sum of errors (deviations)\n",
    "* Many lines can be placed that generate $SE = 0$\n",
    "\n",
    "#### SSE\n",
    "\\begin{equation}\n",
    "\\sum_{i=1}^n (y_i - \\hat{y}_i)^2\n",
    "\\end{equation}\n",
    "\n",
    "* sum of squares of the errors (residuals)  \n",
    "* gives greater emphasis to large deviations  "
   ]
  },
  {
   "cell_type": "markdown",
   "metadata": {},
   "source": [
    "### Least Squares Line\n",
    "\n",
    "One, and only one line can be placed that minimizies $SSE$.\n",
    "\n",
    "The **least squares line** is one that satisfies the following two properties:\n",
    "\n",
    "* $SE = 0$\n",
    "  * The sum of the residuals is 0.\n",
    "* $SSE$ is minimum\n",
    "  * The sum of squared errors is smaller than for any other straight-line model with $SE = 0$.\n",
    "\n",
    "\n",
    "#### Equation of the least squares line\n",
    "\n",
    "\\begin{equation}\n",
    "\\hat{y} = \\hat{\\beta}_0 + \\hat{\\beta}_1x\n",
    "\\end{equation}\n",
    "\n",
    "* $\\hat{y}$ : predicted $y$ value\n",
    "* $\\hat{\\beta}_0$\n",
    "  * least square estimate of population parameter $\\beta_0$ that minimizes $SSE$\n",
    "  * $y$-intercept\n",
    "* $\\hat{\\beta}_1$\n",
    "  * least square estimate of population parameter $\\beta_1$ that minimizes $SSE$\n",
    "  * slope\n",
    "\n",
    "#### SSxy\n",
    "\n",
    "\\begin{equation}\n",
    "SS_{xy} = \\sum_{i=1}^n (x_i - \\bar{x})(y_i - \\bar{y})\n",
    "\\end{equation}\n",
    "\n",
    "* equivalent to $(n-1)Cov_{sample}(x,y)$"
   ]
  },
  {
   "cell_type": "code",
   "execution_count": 5,
   "metadata": {
    "collapsed": false
   },
   "outputs": [
    {
     "data": {
      "text/html": [
       "<div>\n",
       "<table border=\"1\" class=\"dataframe\">\n",
       "  <thead>\n",
       "    <tr style=\"text-align: right;\">\n",
       "      <th></th>\n",
       "      <th>vehicles</th>\n",
       "      <th>time</th>\n",
       "    </tr>\n",
       "  </thead>\n",
       "  <tbody>\n",
       "    <tr>\n",
       "      <th>vehicles</th>\n",
       "      <td>20.000000</td>\n",
       "      <td>0.064286</td>\n",
       "    </tr>\n",
       "    <tr>\n",
       "      <th>time</th>\n",
       "      <td>0.064286</td>\n",
       "      <td>0.000255</td>\n",
       "    </tr>\n",
       "  </tbody>\n",
       "</table>\n",
       "</div>"
      ],
      "text/plain": [
       "           vehicles      time\n",
       "vehicles  20.000000  0.064286\n",
       "time       0.064286  0.000255"
      ]
     },
     "execution_count": 5,
     "metadata": {},
     "output_type": "execute_result"
    }
   ],
   "source": [
    "# display the covariance matrix\n",
    "df.cov()"
   ]
  },
  {
   "cell_type": "code",
   "execution_count": 6,
   "metadata": {
    "collapsed": false
   },
   "outputs": [
    {
     "name": "stdout",
     "output_type": "stream",
     "text": [
      "Cov(x,y) =  0.0642857142857\n",
      "Var(x) =  20.0\n",
      "Var(y) =  0.00025523809523809527\n",
      "n =  15\n"
     ]
    }
   ],
   "source": [
    "# calculate variances\n",
    "covariance_xy = df.cov()[xCol][yCol]\n",
    "variance_x = df[xCol].var()\n",
    "variance_y = df[yCol].var()\n",
    "\n",
    "n = len(df)\n",
    "\n",
    "print(\"Cov(x,y) = \", covariance_xy)\n",
    "print(\"Var(x) = \", variance_x)\n",
    "print(\"Var(y) = \", variance_y)\n",
    "print(\"n = \", n)"
   ]
  },
  {
   "cell_type": "code",
   "execution_count": 7,
   "metadata": {
    "collapsed": false
   },
   "outputs": [
    {
     "name": "stdout",
     "output_type": "stream",
     "text": [
      "SSxy =  0.9\n"
     ]
    }
   ],
   "source": [
    "SSxy = covariance_xy * (n - 1)\n",
    "print(\"SSxy = \", SSxy)"
   ]
  },
  {
   "cell_type": "markdown",
   "metadata": {},
   "source": [
    "#### SSxx\n",
    "\n",
    "\\begin{equation}\n",
    "SS_{xx} = \\sum_{i=1}^n (x_i - \\bar{x})^2\n",
    "\\end{equation}\n",
    "\n",
    "* equivalent to $(n-1)Var_{sample}(x)$"
   ]
  },
  {
   "cell_type": "code",
   "execution_count": 8,
   "metadata": {
    "collapsed": false
   },
   "outputs": [
    {
     "name": "stdout",
     "output_type": "stream",
     "text": [
      "SSxx =  280.0\n"
     ]
    }
   ],
   "source": [
    "SSxx = variance_x * (n - 1)\n",
    "print(\"SSxx = \", SSxx)"
   ]
  },
  {
   "cell_type": "markdown",
   "metadata": {},
   "source": [
    "#### $\\beta_1$ Least Squares Estimate\n",
    "\n",
    "\\begin{equation}\n",
    "\\hat{\\beta}_1 = \\frac{SS_{xy}}{SS_{xx}}\n",
    "\\end{equation}\n",
    "\n",
    "* For first-order linear model, this is equivalent to $\\frac{Cov(x,y)}{Var(x)}$"
   ]
  },
  {
   "cell_type": "code",
   "execution_count": 9,
   "metadata": {
    "collapsed": false
   },
   "outputs": [
    {
     "name": "stdout",
     "output_type": "stream",
     "text": [
      "Beta^1 =  0.00321428571429\n"
     ]
    }
   ],
   "source": [
    "# Slope (beta-hat-1) = SSxy / SSxx\n",
    "beta1 = SSxy / SSxx\n",
    "print(\"Beta^1 = \", beta1)"
   ]
  },
  {
   "cell_type": "markdown",
   "metadata": {},
   "source": [
    "#### $\\beta_0$ Least Squares Estimate\n",
    "\n",
    "\\begin{equation}\n",
    "\\hat{\\beta}_0 = \\bar{y} - \\hat{\\beta}_1\\bar{x}\n",
    "\\end{equation}"
   ]
  },
  {
   "cell_type": "code",
   "execution_count": 10,
   "metadata": {
    "collapsed": false
   },
   "outputs": [
    {
     "name": "stdout",
     "output_type": "stream",
     "text": [
      "xBar =  8.0\n",
      "yBar =  0.024666666666666667\n",
      "Beta^0 =  -0.00104761904762\n"
     ]
    }
   ],
   "source": [
    "# calculate means of x and y\n",
    "xBar = df[xCol].mean()\n",
    "yBar = df[yCol].mean()\n",
    "\n",
    "print(\"xBar = \", xBar)\n",
    "print(\"yBar = \", yBar)\n",
    "\n",
    "# intercept (beta-hat-0) = yBar - beta1 * xBar\n",
    "beta0 = yBar - (beta1 * xBar)\n",
    "print(\"Beta^0 = \", beta0)"
   ]
  },
  {
   "cell_type": "markdown",
   "metadata": {},
   "source": [
    "### Interpretation of $\\hat{\\beta}$ Parameters\n",
    "\n",
    "* $\\hat{\\beta}_1$ : The mean of $y$ will increase/decrease $\\hat{\\beta}_1$ units for every 1-unit increase in $x$.\n",
    "* $\\hat{\\beta}_0$ : When $x$ equals 0, the estimated mean $y$ is $\\hat{\\beta}_0$.\n",
    "\n",
    "* **extrapolation** : Making predictions outside the range of the sample data."
   ]
  },
  {
   "cell_type": "markdown",
   "metadata": {},
   "source": [
    "<div class=\"alert alert-info\">\n",
    "<b>Key Point: </b> Only when $x = 0$ is within the range of $x$-values in the sample data and is a practical value will $\\hat{\\beta}_0$ have a meaningful interpretation.\n",
    "</div>"
   ]
  },
  {
   "cell_type": "markdown",
   "metadata": {},
   "source": [
    "<div class=\"alert alert-info\">\n",
    "<b>Key Point: </b> Even when the interpretations of the estimated parameters are meaningful, we need to remember that they are only estimates based on the sample.\n",
    "</div>"
   ]
  },
  {
   "cell_type": "code",
   "execution_count": 11,
   "metadata": {
    "collapsed": false
   },
   "outputs": [
    {
     "data": {
      "text/plain": [
       "0     0.002167\n",
       "1     0.005381\n",
       "2     0.008595\n",
       "3     0.011810\n",
       "4     0.015024\n",
       "5     0.018238\n",
       "6     0.021452\n",
       "7     0.024667\n",
       "8     0.027881\n",
       "9     0.031095\n",
       "10    0.034310\n",
       "11    0.037524\n",
       "12    0.040738\n",
       "13    0.043952\n",
       "14    0.047167\n",
       "Name: vehicles, dtype: float64"
      ]
     },
     "execution_count": 11,
     "metadata": {},
     "output_type": "execute_result"
    }
   ],
   "source": [
    "# calculate predicted y-values\n",
    "y_hat = beta0 + beta1 * df[xCol]\n",
    "y_hat"
   ]
  },
  {
   "cell_type": "markdown",
   "metadata": {},
   "source": [
    "### Model Assumptions\n",
    "\n",
    "Four basic assumptions about the general form of the probability distribution of $\\epsilon$:\n",
    "\n",
    "1. The mean of the probability distribution of $\\epsilon$ is 0.\n",
    "2. The variance of the probability distribution of $\\epsilon$ is constant for all settings of the independent variable $x$.\n",
    "3. The probability distribution of $\\epsilon$ is normal.\n",
    "4. The errors associated with any two different observations are independent.\n",
    "\n",
    "\n",
    "* various diagnostic techniques exist for checking the validity of these assumptions\n",
    "* it is essential that we apply these diagnostic tools in every regression analysis"
   ]
  },
  {
   "cell_type": "markdown",
   "metadata": {},
   "source": [
    "#### SSyy\n",
    "\n",
    "\\begin{equation}\n",
    "SS_{yy} = \\sum_{i=1}^n (y_i - \\bar{y})^2\n",
    "\\end{equation}\n",
    "\n",
    "* equivalent to $(n-1)Var_{sample}(y)$"
   ]
  },
  {
   "cell_type": "code",
   "execution_count": 12,
   "metadata": {
    "collapsed": false
   },
   "outputs": [
    {
     "name": "stdout",
     "output_type": "stream",
     "text": [
      "SSyy =  0.0035733333333333337\n"
     ]
    }
   ],
   "source": [
    "SSyy = variance_y * (n - 1)\n",
    "print(\"SSyy = \", SSyy)"
   ]
  },
  {
   "cell_type": "markdown",
   "metadata": {},
   "source": [
    "### An Estimator of $\\sigma^2$\n",
    "\n",
    "Reasonable assumption:\n",
    "\n",
    "* the greater the variability of $\\epsilon$ (measured by its variance, $\\sigma^2$):\n",
    "    * the greater will be the errors in the estimation of $\\beta_0$ and $\\beta_1$\n",
    "    * the greater will be the errors of prediction when $\\hat{y}$ is used to predict $y$ for some $x$\n",
    "\n",
    "* $\\sigma^2$ is typically unknown\n",
    "  * best estimate is $s^2$"
   ]
  },
  {
   "cell_type": "code",
   "execution_count": 13,
   "metadata": {
    "collapsed": false
   },
   "outputs": [
    {
     "data": {
      "text/plain": [
       "0    -0.002167\n",
       "1    -0.005381\n",
       "2     0.011405\n",
       "3    -0.001810\n",
       "4    -0.005024\n",
       "5    -0.008238\n",
       "6     0.008548\n",
       "7     0.005333\n",
       "8    -0.007881\n",
       "9     0.008905\n",
       "10    0.005690\n",
       "11    0.002476\n",
       "12   -0.010738\n",
       "13   -0.003952\n",
       "14    0.002833\n",
       "dtype: float64"
      ]
     },
     "execution_count": 13,
     "metadata": {},
     "output_type": "execute_result"
    }
   ],
   "source": [
    "# residuals\n",
    "# y - y_hat\n",
    "residuals = df[yCol] - y_hat\n",
    "residuals"
   ]
  },
  {
   "cell_type": "code",
   "execution_count": 14,
   "metadata": {
    "collapsed": false
   },
   "outputs": [
    {
     "name": "stdout",
     "output_type": "stream",
     "text": [
      "SE =  1.0408340855860843e-17\n"
     ]
    }
   ],
   "source": [
    "# sum of errors (SE) must equal 0\n",
    "SE = residuals.sum()\n",
    "print(\"SE = \", SE)"
   ]
  },
  {
   "cell_type": "markdown",
   "metadata": {},
   "source": [
    "#### SSE\n",
    "\n",
    "\\begin{equation}\n",
    "SSE = SS_{yy} - \\hat{\\beta}_1SS_{xy}\n",
    "\\end{equation}"
   ]
  },
  {
   "cell_type": "code",
   "execution_count": 15,
   "metadata": {
    "collapsed": false
   },
   "outputs": [
    {
     "name": "stdout",
     "output_type": "stream",
     "text": [
      "SSE (v1) =  0.0006804761904761908\n"
     ]
    }
   ],
   "source": [
    "# sum of squared errors (SSE) should be minimized\n",
    "\n",
    "## calculate first via the actual residual values\n",
    "SSE1 = (residuals * residuals).sum()\n",
    "print(\"SSE (v1) = \", SSE1)"
   ]
  },
  {
   "cell_type": "code",
   "execution_count": 16,
   "metadata": {
    "collapsed": false
   },
   "outputs": [
    {
     "name": "stdout",
     "output_type": "stream",
     "text": [
      "SSE (v2) =  0.000680476190476\n"
     ]
    }
   ],
   "source": [
    "## calculate using the alternate formula\n",
    "SSE2 = SSyy - beta1 * SSxy\n",
    "print(\"SSE (v2) = \", SSE2)"
   ]
  },
  {
   "cell_type": "markdown",
   "metadata": {},
   "source": [
    "#### Estimate of $\\sigma^2$ : $s^2$ (MSE)\n",
    "\n",
    "\\begin{equation}\n",
    "s^2 = \\frac{SSE}{df}\n",
    "\\end{equation}\n",
    "\n",
    "* df for error is $n - 2$\n",
    "* (1 for $y$-intercept, 1 for slope)"
   ]
  },
  {
   "cell_type": "code",
   "execution_count": 17,
   "metadata": {
    "collapsed": false
   },
   "outputs": [
    {
     "name": "stdout",
     "output_type": "stream",
     "text": [
      "s^2 (MSE) =  5.234432234432237e-05\n"
     ]
    }
   ],
   "source": [
    "# mean squared error (s^2) = SSE / (df for error)  = SSE / (n-2)\n",
    "MSE = SSE1 / (n-2)\n",
    "print(\"s^2 (MSE) = \", MSE)"
   ]
  },
  {
   "cell_type": "markdown",
   "metadata": {},
   "source": [
    "#### s (RMSE)\n",
    "\n",
    "* estimated standard error of the regression model\n",
    "* Root MSE\n",
    "* interpretation: we expect most (~95%) of the observed $y$-values to lie within $2s$ of their respective least squares predicted values, $\\hat{y}$."
   ]
  },
  {
   "cell_type": "code",
   "execution_count": 18,
   "metadata": {
    "collapsed": false
   },
   "outputs": [
    {
     "name": "stdout",
     "output_type": "stream",
     "text": [
      "s (RMSE) =  0.007234937618550858\n",
      "we expect the observed y-value to lie within 0.014470 of the predicted y value\n"
     ]
    }
   ],
   "source": [
    "# RMSE (s)\n",
    "RMSE = math.sqrt(MSE)\n",
    "print(\"s (RMSE) = \", RMSE)\n",
    "print(\"we expect the observed y-value to lie within %f of the predicted y value\" % (2 * RMSE,))"
   ]
  },
  {
   "cell_type": "markdown",
   "metadata": {},
   "source": [
    "#### Coefficient of variation (CV)\n",
    "\n",
    "* The ratio of standard of error to sample mean of $y$\n",
    "\n",
    "\\begin{equation}\n",
    "CV = 100 (s / \\bar{y})\n",
    "\\end{equation}"
   ]
  },
  {
   "cell_type": "code",
   "execution_count": 19,
   "metadata": {
    "collapsed": false
   },
   "outputs": [
    {
     "name": "stdout",
     "output_type": "stream",
     "text": [
      "CV =  29.33082818331429\n"
     ]
    }
   ],
   "source": [
    "# coefficient of variation (CV)\n",
    "cv = 100 * (RMSE / yBar)\n",
    "print(\"CV = \", cv)"
   ]
  },
  {
   "cell_type": "markdown",
   "metadata": {},
   "source": [
    "<div class=\"alert alert-info\">\n",
    "  <b>Rule of Thumb:</b> We typically want a regression model with CV values of 10% or smaller; this, in turn, typically leads to more precise predictions.\n",
    "</div>"
   ]
  },
  {
   "cell_type": "markdown",
   "metadata": {},
   "source": [
    "### Assessing Model Utility : Inferences about $\\beta_1$\n",
    "\n",
    "* Suppose that independent and dependent variables are completely unrelated.\n",
    "\t* i.e. x contributes no information for the prediction of y\n",
    "* Implies that $E(y) = \\beta_0 + \\beta_1x$ does not change as $x$ changes\n",
    "* This means that $\\beta_1 = 0$, leading to:\n",
    "  * $H_0: \\beta_1 = 0$\n",
    "  * $H_a: \\beta_1 \\neq 0$\n",
    "\n",
    "#### Sampling Distribution of $\\hat{\\beta}_1$\n",
    "\n",
    "* normal\n",
    "* mean:  $\\beta_1$ (true slope)\n",
    "* std dev: $\\sigma_{\\hat{\\beta}_1} = \\frac{\\sigma}{\\sqrt{SS_{xx}}}$\n",
    "\n",
    "* $\\sigma$ typically unknown"
   ]
  },
  {
   "cell_type": "markdown",
   "metadata": {},
   "source": [
    "#### Estimate of $\\sigma_{\\beta_1}$\n",
    "\n",
    "\\begin{equation}\n",
    "s_{\\hat{\\beta}_1} = \\frac{s}{\\sqrt{SS_{xx}}}\n",
    "\\end{equation}"
   ]
  },
  {
   "cell_type": "code",
   "execution_count": 20,
   "metadata": {
    "collapsed": false
   },
   "outputs": [
    {
     "name": "stdout",
     "output_type": "stream",
     "text": [
      "s_Beta^1 =  0.0004323702214220816\n"
     ]
    }
   ],
   "source": [
    "# sampling distribution of beta1-est\n",
    "# mean will be true beta1\n",
    "# sd will = RMSE / sqrt(SSxx)\n",
    "sBeta1 = RMSE / math.sqrt(SSxx)\n",
    "print(\"s_Beta^1 = \", sBeta1)"
   ]
  },
  {
   "cell_type": "markdown",
   "metadata": {},
   "source": [
    "#### Test Statistic (Student's t)\n",
    "\n",
    "\\begin{eqnarray*}\n",
    "t &=& \\frac{\\hat{\\beta}_1 - (\\text{hypothesized value of } \\beta_1)}{s_{\\hat{\\beta}_1}}\\\\ \n",
    "&=& \\frac{\\hat{\\beta}_1 - 0}{s_{\\hat{\\beta}_1}}\\\\\n",
    "&=& \\frac{\\hat{\\beta}_1}{s_{\\hat{\\beta}_1}}\n",
    "\\end{eqnarray*}\n",
    "\n",
    "* $df = (n - 2)$ for straight-line model"
   ]
  },
  {
   "cell_type": "code",
   "execution_count": 21,
   "metadata": {
    "collapsed": false
   },
   "outputs": [
    {
     "name": "stdout",
     "output_type": "stream",
     "text": [
      "t =  7.43410520668\n"
     ]
    }
   ],
   "source": [
    "# calculate test statistic \n",
    "t = beta1 / sBeta1\n",
    "print(\"t = \", t)"
   ]
  },
  {
   "cell_type": "markdown",
   "metadata": {},
   "source": [
    "#### Two-Tailed Test\n",
    "\n",
    "* Rejection Region: $|t| > t_{\\alpha/2}$\n",
    "* p-value:\n",
    "  * $2P(t > t_c) \\text{ if } t_c > 0$\n",
    "  * $2P(t < t_c) \\text{ if } t_c < 0$"
   ]
  },
  {
   "cell_type": "code",
   "execution_count": 22,
   "metadata": {
    "collapsed": false
   },
   "outputs": [
    {
     "data": {
      "text/plain": [
       "2.1603686564610127"
      ]
     },
     "execution_count": 22,
     "metadata": {},
     "output_type": "execute_result"
    }
   ],
   "source": [
    "# figure out our rejection region\n",
    "alpha = 0.05\n",
    "tRej = st.t.ppf(1 - (alpha / 2), n - 2)\n",
    "tRej"
   ]
  },
  {
   "cell_type": "code",
   "execution_count": 23,
   "metadata": {
    "collapsed": true
   },
   "outputs": [],
   "source": [
    "# since t falls in the upper-tail rejection region, we can reject the null hypothesis"
   ]
  },
  {
   "cell_type": "markdown",
   "metadata": {},
   "source": [
    "### 100 ($1-\\alpha$)% C.I. for $\\beta_1$ (Simple Linear Model)\n",
    "\n",
    "\\begin{equation}\n",
    "\\hat{\\beta}_1 \\pm (t_{\\alpha/2})s_{\\hat{\\beta}_1}\n",
    "\\end{equation}\n",
    "\n",
    "* $t_{\\alpha/2}$ based on $df = n - 2$"
   ]
  },
  {
   "cell_type": "code",
   "execution_count": 24,
   "metadata": {
    "collapsed": false
   },
   "outputs": [
    {
     "name": "stdout",
     "output_type": "stream",
     "text": [
      "[0.002280, 0.004148]\n"
     ]
    }
   ],
   "source": [
    "# generate a confidence interval for our beta^1 param\n",
    "# beta1 +/- tRej * sBeta1\n",
    "ciLow = beta1 - tRej * sBeta1\n",
    "ciHigh = beta1 + tRej * sBeta1\n",
    "print(\"[%f, %f]\" %(ciLow, ciHigh))"
   ]
  },
  {
   "cell_type": "markdown",
   "metadata": {},
   "source": [
    "### Pearson Product Moment Coefficient of Correlation\n",
    "\n",
    "\\begin{eqnarray*}\n",
    "r &=& \\frac{SS_{xy}}{\\sqrt{SS_{xx}SS_{yy}}}\\\\\n",
    "&=& \\frac{Cov_{xy}}{\\sqrt{Var_{x}Var_{y}}}\n",
    "\\end{eqnarray*}\n",
    "\n",
    "* a quantitative measure of the strength of the linear relationship between $x$ and $y$\n",
    "* scaleless: $[-1, 1]$\n",
    "* only useful in cases of _linear relationship_\n",
    "* note: $r$ applies to the sample; the population correlation coefficient is $\\rho$"
   ]
  },
  {
   "cell_type": "markdown",
   "metadata": {},
   "source": [
    "### Coefficient of Determination\n",
    "\n",
    "\\begin{eqnarray*}\n",
    "r^2 &=& \\frac{\\text{explained sample variability}}{\\text{total sample variability}}\\\\\n",
    "&=& \\frac{SS_{yy} - SSE}{SS_{yy}}\\\\\n",
    "&=& 1 - \\frac{SSE}{SS_{yy}}\n",
    "\\end{eqnarray*}\n",
    "\n",
    "* practical interpretation: proportion of sample variability of $y$-values explained by the linear relationship between $x$ and $y$"
   ]
  },
  {
   "cell_type": "markdown",
   "metadata": {},
   "source": [
    "### Sampling Error for Estimator of the Mean of $y$ at $x = x_p$\n",
    "\n",
    "\\begin{equation}\n",
    "\\sigma_{\\hat{y}} = \\sigma\\sqrt{\\frac{1}{n} + \\frac{(x_p -\\bar{x})^2}{SS_{xx}}}\n",
    "\\end{equation}\n",
    "\n",
    "* $\\sigma_{\\hat{y}}$ is refered to as the **standard error of $\\hat{y}$**"
   ]
  },
  {
   "cell_type": "markdown",
   "metadata": {},
   "source": [
    "### Sampling Error for Predictor of $y$ at $x = x_p$\n",
    "\n",
    "\\begin{equation}\n",
    "\\sigma_{(y-\\hat{y})} = \\sigma\\sqrt{1+\\frac{1}{n} + \\frac{(x_p -\\bar{x})^2}{SS_{xx}}}\n",
    "\\end{equation}\n",
    "\n",
    "* $\\sigma_{(y-\\hat{y})}$ is refered to as the **standard error of prediction**"
   ]
  },
  {
   "cell_type": "markdown",
   "metadata": {},
   "source": [
    "### 100 ($1-\\alpha$)% C.I. for Mean Value of $y$ at $x = x_p$\n",
    "\n",
    "\\begin{equation}\n",
    "\\hat{y} \\pm (t_{\\alpha/2})s\\sqrt{\\frac{1}{n} + \\frac{(x_p -\\bar{x})^2}{SS_{xx}}}\n",
    "\\end{equation}\n",
    "\n",
    "* $df = n - 2$"
   ]
  },
  {
   "cell_type": "markdown",
   "metadata": {},
   "source": [
    "### 100 ($1-\\alpha$)% C.I. for Prediction of $y$ at $x = x_p$\n",
    "\n",
    "\\begin{equation}\n",
    "\\hat{y} \\pm (t_{\\alpha/2})s\\sqrt{1 + \\frac{1}{n} + \\frac{(x_p -\\bar{x})^2}{SS_{xx}}}\n",
    "\\end{equation}\n",
    "\n",
    "* $df = n - 2$"
   ]
  },
  {
   "cell_type": "markdown",
   "metadata": {},
   "source": [
    "* error of estimation and error of prediction both take their smallest values at $x_p = \\bar{x}$\n",
    "* C.I. width decreases as $n$ increases:\n",
    "  * for estimation, precision will continue to improve with increases in $n$\n",
    "  * for prediction, there is a lower bound: $\\hat{y} \\pm z_{\\alpha/2}\\sigma$"
   ]
  },
  {
   "cell_type": "markdown",
   "metadata": {},
   "source": [
    "### Steps to Follow in a Simple Linear Regression Analysis\n",
    "\n",
    "1. hypothesize a probabilistic model - **first-order (straight line) model**: $y = \\beta{}_0 + \\beta{}_1 x + \\epsilon{}$\n",
    "2. collect the **sample** of (x,y) pairs\n",
    "3. use least squares method to **estimate the unknown $\\beta$ parameters**\n",
    "4. specify the probability distribution of the **random error component ($\\epsilon$)**\n",
    "5. assess the utility of the hypothesized model:\n",
    "    * inferences about **slope $\\beta{}_1$**\n",
    "    * interpret coefficient of correlation ($\\r$)\n",
    "    * interpret coefficient of determination ($\\r^2$)\n",
    "6. use model to estimate mean value of $y$ or predict an individual $y$ value    "
   ]
  },
  {
   "cell_type": "code",
   "execution_count": null,
   "metadata": {
    "collapsed": true
   },
   "outputs": [],
   "source": []
  }
 ],
 "metadata": {
  "kernelspec": {
   "display_name": "Python 3",
   "language": "python",
   "name": "python3"
  },
  "language_info": {
   "codemirror_mode": {
    "name": "ipython",
    "version": 3
   },
   "file_extension": ".py",
   "mimetype": "text/x-python",
   "name": "python",
   "nbconvert_exporter": "python",
   "pygments_lexer": "ipython3",
   "version": "3.5.2"
  }
 },
 "nbformat": 4,
 "nbformat_minor": 0
}
