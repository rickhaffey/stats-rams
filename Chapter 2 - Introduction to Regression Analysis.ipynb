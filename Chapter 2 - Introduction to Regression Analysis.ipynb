{
 "cells": [
  {
   "cell_type": "markdown",
   "metadata": {},
   "source": [
    "# Chapter 2 - Introduction to Regression Analysis"
   ]
  },
  {
   "cell_type": "markdown",
   "metadata": {},
   "source": [
    "* **regression analysis**: the process of finding a mathematical model (an equation) that relates $y$ to a set of independent variables and best fits the data"
   ]
  },
  {
   "cell_type": "markdown",
   "metadata": {},
   "source": [
    "## General Form of Probabilistic Model in Regression\n",
    "\n",
    "\\begin{equation}\n",
    "y = E(y) + \\epsilon\n",
    "\\end{equation}\n",
    "\n",
    "* $y$ : Dependent variable\n",
    "* $E(y)$ : Mean (or expected) value of y\n",
    "* $\\epsilon$ : Unexplainable, or random, error\n",
    "\n",
    "\n",
    "* **dependent** (or response) **variable**: the variable to be predicted or modeled\n",
    "* **independent variable**: the variables used to predict or model y\n",
    "\n",
    "* this is a **probabilistic model** for $y$: when certain assumptions about the model are satisfied, we can make a probability statement about the magnitude of the deviation between $y$ and $E(y)$"
   ]
  },
  {
   "cell_type": "markdown",
   "metadata": {},
   "source": [
    "## Overview of Regression Analysis\n",
    "\n",
    "* branch of statistical methodology concerned with relating a response $y$ to a set of independent, or predictor, variables $x_1$, $x_2$, $\\dots$, $x_k$\n",
    "* resulting equation is a **regression model**\n",
    "* **response surface**: convenient method for modeling a response $y$ that is a function of two quantitative variables $x_1$ and $x_2$; traces the mean value of the response variable, $E(y)$, for various combinations of $x_1$ and $x_2$."
   ]
  },
  {
   "cell_type": "markdown",
   "metadata": {},
   "source": [
    "## Regression Modeling: Six-Step Procedure\n",
    "\n",
    "1. Hypothesize the form of the model for $E(y)$.\n",
    "2. Collect the sample data.\n",
    "3. Use the sample data to estimate unknown parameters in the model.\n",
    "4. Specify the probability distribution of the random error term, and estimate any unknown parameters of this distribution.\n",
    "5. Statistically check the usefulness of the model.\n",
    "6. When satisfied that the model is useful, use it for prediction, estimation, and so on."
   ]
  },
  {
   "cell_type": "markdown",
   "metadata": {},
   "source": [
    "## Data Collection\n",
    "\n",
    "* If the values of the independent variables ($x$’s) in regression are uncontrolled (i.e., not set in advance before the value of $y$ is observed) but are measured without error, the data are **observational**.\n",
    "* If the values of the independent variables ($x$’s) in regression are controlled using a designed experiment (i.e., set in advance before the value of $y$ is observed), the data are **experimental**.\n",
    "\n",
    "### Sample Size and Observational Data\n",
    "\n",
    "* Regression involves estimating the mean response, so 3 factors must be taken into account:\n",
    "\t* the (estimated) population standard deviation\n",
    "    * the confidence level\n",
    "    * the desired half-width of the confidence interval used to estimate the mean\n",
    "* $E(y)$ is modeled as a function of a set of independent variables, and the additional parameters in the model (the $\\beta$'s) must also be estimated\n",
    "* Sample size must be large enough so that the $\\beta$'s are both estimable and testable\n",
    "* This will not occur unless $n$ is at least as large as the number of $\\beta$ parameters"
   ]
  },
  {
   "cell_type": "markdown",
   "metadata": {},
   "source": [
    "<div class=\"alert alert-info\">\n",
    "<b>Rule of Thumb:</b> Select $n$ greater than or equal to 10 times the number of $\\beta$ parameters in the model (excluding $\\beta{}_0$)\n",
    "</div>"
   ]
  },
  {
   "cell_type": "code",
   "execution_count": 2,
   "metadata": {
    "collapsed": true
   },
   "outputs": [],
   "source": [
    "import numpy as np\n",
    "import pandas as pd\n",
    "import scipy.stats as st\n",
    "import matplotlib.pyplot as plt\n",
    "import math\n",
    "\n",
    "from pandas import Series,DataFrame\n",
    "\n",
    "%matplotlib inline"
   ]
  },
  {
   "cell_type": "code",
   "execution_count": 10,
   "metadata": {
    "collapsed": false
   },
   "outputs": [
    {
     "data": {
      "text/html": [
       "<div>\n",
       "<table border=\"1\" class=\"dataframe\">\n",
       "  <thead>\n",
       "    <tr style=\"text-align: right;\">\n",
       "      <th></th>\n",
       "      <th>vehicles</th>\n",
       "      <th>time</th>\n",
       "    </tr>\n",
       "  </thead>\n",
       "  <tbody>\n",
       "    <tr>\n",
       "      <th>0</th>\n",
       "      <td>1</td>\n",
       "      <td>0.00</td>\n",
       "    </tr>\n",
       "    <tr>\n",
       "      <th>1</th>\n",
       "      <td>2</td>\n",
       "      <td>0.00</td>\n",
       "    </tr>\n",
       "    <tr>\n",
       "      <th>2</th>\n",
       "      <td>3</td>\n",
       "      <td>0.02</td>\n",
       "    </tr>\n",
       "    <tr>\n",
       "      <th>3</th>\n",
       "      <td>4</td>\n",
       "      <td>0.01</td>\n",
       "    </tr>\n",
       "    <tr>\n",
       "      <th>4</th>\n",
       "      <td>5</td>\n",
       "      <td>0.01</td>\n",
       "    </tr>\n",
       "  </tbody>\n",
       "</table>\n",
       "</div>"
      ],
      "text/plain": [
       "   vehicles  time\n",
       "0         1  0.00\n",
       "1         2  0.00\n",
       "2         3  0.02\n",
       "3         4  0.01\n",
       "4         5  0.01"
      ]
     },
     "execution_count": 10,
     "metadata": {},
     "output_type": "execute_result"
    }
   ],
   "source": [
    "# load the data\n",
    "datapath = \"./data/ch03/warehouse.dat\"\n",
    "df = pd.read_fwf(datapath, names=[\"vehicles\", \"time\"], colspecs=\"infer\")\n",
    "\n",
    "# define the independent and dependent variables\n",
    "xCol = 'vehicles'\n",
    "yCol = 'time'\n",
    "\n",
    "df.head()"
   ]
  },
  {
   "cell_type": "code",
   "execution_count": 11,
   "metadata": {
    "collapsed": false
   },
   "outputs": [
    {
     "data": {
      "text/html": [
       "<div>\n",
       "<table border=\"1\" class=\"dataframe\">\n",
       "  <thead>\n",
       "    <tr style=\"text-align: right;\">\n",
       "      <th></th>\n",
       "      <th>vehicles</th>\n",
       "      <th>time</th>\n",
       "    </tr>\n",
       "  </thead>\n",
       "  <tbody>\n",
       "    <tr>\n",
       "      <th>0</th>\n",
       "      <td>1</td>\n",
       "      <td>0.00</td>\n",
       "    </tr>\n",
       "    <tr>\n",
       "      <th>1</th>\n",
       "      <td>2</td>\n",
       "      <td>0.00</td>\n",
       "    </tr>\n",
       "    <tr>\n",
       "      <th>2</th>\n",
       "      <td>3</td>\n",
       "      <td>0.02</td>\n",
       "    </tr>\n",
       "    <tr>\n",
       "      <th>3</th>\n",
       "      <td>4</td>\n",
       "      <td>0.01</td>\n",
       "    </tr>\n",
       "    <tr>\n",
       "      <th>4</th>\n",
       "      <td>5</td>\n",
       "      <td>0.01</td>\n",
       "    </tr>\n",
       "  </tbody>\n",
       "</table>\n",
       "</div>"
      ],
      "text/plain": [
       "   vehicles  time\n",
       "0         1  0.00\n",
       "1         2  0.00\n",
       "2         3  0.02\n",
       "3         4  0.01\n",
       "4         5  0.01"
      ]
     },
     "execution_count": 11,
     "metadata": {},
     "output_type": "execute_result"
    }
   ],
   "source": [
    "df.head()"
   ]
  },
  {
   "cell_type": "code",
   "execution_count": 12,
   "metadata": {
    "collapsed": false
   },
   "outputs": [
    {
     "data": {
      "text/plain": [
       "count    15.000000\n",
       "mean      8.000000\n",
       "std       4.472136\n",
       "min       1.000000\n",
       "25%       4.500000\n",
       "50%       8.000000\n",
       "75%      11.500000\n",
       "max      15.000000\n",
       "Name: vehicles, dtype: float64"
      ]
     },
     "execution_count": 12,
     "metadata": {},
     "output_type": "execute_result"
    }
   ],
   "source": [
    "df[xCol].describe()"
   ]
  },
  {
   "cell_type": "code",
   "execution_count": 13,
   "metadata": {
    "collapsed": false
   },
   "outputs": [
    {
     "data": {
      "text/plain": [
       "count    15.000000\n",
       "mean      0.024667\n",
       "std       0.015976\n",
       "min       0.000000\n",
       "25%       0.010000\n",
       "50%       0.030000\n",
       "75%       0.040000\n",
       "max       0.050000\n",
       "Name: time, dtype: float64"
      ]
     },
     "execution_count": 13,
     "metadata": {},
     "output_type": "execute_result"
    }
   ],
   "source": [
    "df[yCol].describe()"
   ]
  }
 ],
 "metadata": {
  "kernelspec": {
   "display_name": "Python 3",
   "language": "python",
   "name": "python3"
  },
  "language_info": {
   "codemirror_mode": {
    "name": "ipython",
    "version": 3
   },
   "file_extension": ".py",
   "mimetype": "text/x-python",
   "name": "python",
   "nbconvert_exporter": "python",
   "pygments_lexer": "ipython3",
   "version": "3.5.2"
  }
 },
 "nbformat": 4,
 "nbformat_minor": 0
}
