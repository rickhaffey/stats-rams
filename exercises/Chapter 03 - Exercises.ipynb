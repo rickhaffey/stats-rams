{
 "cells": [
  {
   "cell_type": "markdown",
   "metadata": {},
   "source": [
    "# Chapter 03 - Exercises"
   ]
  },
  {
   "cell_type": "markdown",
   "metadata": {},
   "source": [
    "## 3.1\n",
    "\n",
    "### Answers\n",
    "\n",
    "* see below"
   ]
  },
  {
   "cell_type": "code",
   "execution_count": 2,
   "metadata": {
    "collapsed": true
   },
   "outputs": [],
   "source": [
    "# %load ../snippets/data-imports\n",
    "import numpy as np\n",
    "import pandas as pd\n",
    "from pandas import Series,DataFrame\n",
    "\n",
    "from scipy import stats\n",
    "\n",
    "import matplotlib.pyplot as plt\n",
    "import seaborn as sns\n",
    "%matplotlib inline\n",
    "sns.set_style('whitegrid')"
   ]
  },
  {
   "cell_type": "code",
   "execution_count": 3,
   "metadata": {
    "collapsed": false
   },
   "outputs": [
    {
     "data": {
      "image/png": "[encoded data removed]",
      "text/plain": [
       "<matplotlib.figure.Figure at 0x119de99e8>"
      ]
     },
     "metadata": {},
     "output_type": "display_data"
    }
   ],
   "source": [
    "# (0,2) -> (2,6)\n",
    "plt.plot([0,2], [2,6])\n",
    "plt.xlim([-6,6])\n",
    "plt.ylim([-6,6]);"
   ]
  },
  {
   "cell_type": "code",
   "execution_count": 4,
   "metadata": {
    "collapsed": false
   },
   "outputs": [
    {
     "data": {
      "image/png": "[encoded data removed]",
      "text/plain": [
       "<matplotlib.figure.Figure at 0x119ed1c88>"
      ]
     },
     "metadata": {},
     "output_type": "display_data"
    }
   ],
   "source": [
    "# (0,4) -> (2,6)\n",
    "plt.plot([0,2], [4,6]);\n",
    "plt.xlim([-6,6])\n",
    "plt.ylim([-6,6]);"
   ]
  },
  {
   "cell_type": "code",
   "execution_count": 5,
   "metadata": {
    "collapsed": false
   },
   "outputs": [
    {
     "data": {
      "image/png": "[encoded data removed]",
      "text/plain": [
       "<matplotlib.figure.Figure at 0x119efba58>"
      ]
     },
     "metadata": {},
     "output_type": "display_data"
    }
   ],
   "source": [
    "# (0, -2) -> (-1, -6)\n",
    "plt.plot([0,-1], [-2,-6]);\n",
    "plt.xlim([-6,6])\n",
    "plt.ylim([-6,6]);"
   ]
  },
  {
   "cell_type": "code",
   "execution_count": 6,
   "metadata": {
    "collapsed": false
   },
   "outputs": [
    {
     "data": {
      "image/png": "[encoded data removed]",
      "text/plain": [
       "<matplotlib.figure.Figure at 0x11c9f8240>"
      ]
     },
     "metadata": {},
     "output_type": "display_data"
    }
   ],
   "source": [
    "# (0, -4) -> (3, -7)\n",
    "plt.plot([0,3], [-4,-7]);\n",
    "plt.xlim([-7,7])\n",
    "plt.ylim([-7,7]);"
   ]
  },
  {
   "cell_type": "markdown",
   "metadata": {},
   "source": [
    "## 3.3\n",
    "\n",
    "### Answers\n",
    "\n",
    "* a) y = 2.000000 x + 2.000000\n",
    "* b) y = 1.000000 x + 4.000000\n",
    "* c) y = 4.000000 x + -2.000000\n",
    "* d) y = -1.000000 x + -4.000000"
   ]
  },
  {
   "cell_type": "code",
   "execution_count": 7,
   "metadata": {
    "collapsed": true
   },
   "outputs": [],
   "source": [
    "def line_from_points(p1, p2):\n",
    "    slope = (p2[1]-p1[1]) / (p2[0]-p1[0])\n",
    "    intercept = p1[1] - (slope * p1[0])\n",
    "    print(\"y = %f x + %f\" % (slope, intercept))"
   ]
  },
  {
   "cell_type": "code",
   "execution_count": 8,
   "metadata": {
    "collapsed": false
   },
   "outputs": [
    {
     "name": "stdout",
     "output_type": "stream",
     "text": [
      "y = 2.000000 x + 2.000000\n"
     ]
    }
   ],
   "source": [
    "line_from_points((0,2), (2,6))"
   ]
  },
  {
   "cell_type": "code",
   "execution_count": 9,
   "metadata": {
    "collapsed": false
   },
   "outputs": [
    {
     "name": "stdout",
     "output_type": "stream",
     "text": [
      "y = 1.000000 x + 4.000000\n"
     ]
    }
   ],
   "source": [
    "line_from_points((0,4), (2,6))"
   ]
  },
  {
   "cell_type": "code",
   "execution_count": 10,
   "metadata": {
    "collapsed": false
   },
   "outputs": [
    {
     "name": "stdout",
     "output_type": "stream",
     "text": [
      "y = 4.000000 x + -2.000000\n"
     ]
    }
   ],
   "source": [
    "line_from_points((0, -2), (-1, -6))"
   ]
  },
  {
   "cell_type": "code",
   "execution_count": 11,
   "metadata": {
    "collapsed": false
   },
   "outputs": [
    {
     "name": "stdout",
     "output_type": "stream",
     "text": [
      "y = -1.000000 x + -4.000000\n"
     ]
    }
   ],
   "source": [
    "line_from_points((0, -4), (3, -7))"
   ]
  },
  {
   "cell_type": "markdown",
   "metadata": {},
   "source": [
    "## 3.5\n",
    "\n",
    "### Answers\n",
    "\n",
    "* a) 2, 3\n",
    "* b) 1, 1\n",
    "* c) 3, -2\n",
    "* d) 5, 0\n",
    "* e) -2, 4"
   ]
  },
  {
   "cell_type": "markdown",
   "metadata": {},
   "source": [
    "## 3.7\n",
    "\n",
    "### Answers\n",
    "\n",
    "* note: the fixed width format is a bit messed up in this file, need to clean it up manually first pre-load\n",
    "* y = -1.2 x + 2.0"
   ]
  },
  {
   "cell_type": "code",
   "execution_count": 12,
   "metadata": {
    "collapsed": false
   },
   "outputs": [
    {
     "data": {
      "text/html": [
       "<div>\n",
       "<table border=\"1\" class=\"dataframe\">\n",
       "  <thead>\n",
       "    <tr style=\"text-align: right;\">\n",
       "      <th></th>\n",
       "      <th>x</th>\n",
       "      <th>y</th>\n",
       "    </tr>\n",
       "  </thead>\n",
       "  <tbody>\n",
       "    <tr>\n",
       "      <th>0</th>\n",
       "      <td>-2</td>\n",
       "      <td>4</td>\n",
       "    </tr>\n",
       "    <tr>\n",
       "      <th>1</th>\n",
       "      <td>-1</td>\n",
       "      <td>3</td>\n",
       "    </tr>\n",
       "    <tr>\n",
       "      <th>2</th>\n",
       "      <td>0</td>\n",
       "      <td>3</td>\n",
       "    </tr>\n",
       "    <tr>\n",
       "      <th>3</th>\n",
       "      <td>1</td>\n",
       "      <td>1</td>\n",
       "    </tr>\n",
       "    <tr>\n",
       "      <th>4</th>\n",
       "      <td>2</td>\n",
       "      <td>-1</td>\n",
       "    </tr>\n",
       "  </tbody>\n",
       "</table>\n",
       "</div>"
      ],
      "text/plain": [
       "   x  y\n",
       "0 -2  4\n",
       "1 -1  3\n",
       "2  0  3\n",
       "3  1  1\n",
       "4  2 -1"
      ]
     },
     "execution_count": 12,
     "metadata": {},
     "output_type": "execute_result"
    }
   ],
   "source": [
    "ex3_7 = pd.read_table(\"../data/ch03/Ex3_7.dat\", names=[\"x\", \"y\"], delimiter='\\t')\n",
    "ex3_7.head()"
   ]
  },
  {
   "cell_type": "code",
   "execution_count": 13,
   "metadata": {
    "collapsed": false
   },
   "outputs": [
    {
     "data": {
      "text/plain": [
       "-1.2"
      ]
     },
     "execution_count": 13,
     "metadata": {},
     "output_type": "execute_result"
    }
   ],
   "source": [
    "n = ex3_7.x.size\n",
    "SSxy = ex3_7.cov()['x']['y'] * (n - 1)\n",
    "SSxx = ex3_7.x.var() * (n-1)\n",
    "b1 = SSxy / SSxx\n",
    "b1"
   ]
  },
  {
   "cell_type": "code",
   "execution_count": 14,
   "metadata": {
    "collapsed": false
   },
   "outputs": [
    {
     "data": {
      "text/plain": [
       "2.0"
      ]
     },
     "execution_count": 14,
     "metadata": {},
     "output_type": "execute_result"
    }
   ],
   "source": [
    "b0 = ex3_7.y.mean() - (b1 * ex3_7.x.mean())\n",
    "b0"
   ]
  },
  {
   "cell_type": "code",
   "execution_count": 15,
   "metadata": {
    "collapsed": false
   },
   "outputs": [
    {
     "data": {
      "image/png": "[encoded data removed]",
      "text/plain": [
       "<matplotlib.figure.Figure at 0x119eecb38>"
      ]
     },
     "metadata": {},
     "output_type": "display_data"
    }
   ],
   "source": [
    "plt.scatter(ex3_7.x, ex3_7.y)\n",
    "yHat = b1 * ex3_7.x + b0\n",
    "plt.plot(ex3_7.x, yHat);"
   ]
  },
  {
   "cell_type": "markdown",
   "metadata": {},
   "source": [
    "## 3.9\n",
    "\n",
    "### Answers\n",
    "\n",
    "* a) y = -b1 x + b0; negative\n",
    "* b) yes\n",
    "* c) no"
   ]
  },
  {
   "cell_type": "markdown",
   "metadata": {},
   "source": [
    "## 3.11\n",
    "\n",
    "### Answers\n",
    "\n",
    "* d) b1 = 0.0032 - for each 1 vehicle increase, congestion time increases by 0.0032 minutes; b0 = -0.001 -- in the absence of any vehicles, congestion time would be -0.001 minutes"
   ]
  },
  {
   "cell_type": "code",
   "execution_count": 16,
   "metadata": {
    "collapsed": false
   },
   "outputs": [],
   "source": [
    "wh = pd.read_fwf(\"../data/ch03/warehouse.dat\", names=[\"vehicles\", \"time\"], colspecs=\"infer\")"
   ]
  },
  {
   "cell_type": "code",
   "execution_count": 17,
   "metadata": {
    "collapsed": false
   },
   "outputs": [
    {
     "data": {
      "image/png": "[encoded data removed]",
      "text/plain": [
       "<matplotlib.figure.Figure at 0x11cb48860>"
      ]
     },
     "metadata": {},
     "output_type": "display_data"
    }
   ],
   "source": [
    "plt.scatter(wh.vehicles, wh.time)\n",
    "\n",
    "plt.xlabel(\"vehicles\")\n",
    "plt.ylabel(\"time\")\n",
    "plt.title(\"ex 3.11\");"
   ]
  },
  {
   "cell_type": "code",
   "execution_count": 18,
   "metadata": {
    "collapsed": false
   },
   "outputs": [
    {
     "data": {
      "text/plain": [
       "0.0032142857142857138"
      ]
     },
     "execution_count": 18,
     "metadata": {},
     "output_type": "execute_result"
    }
   ],
   "source": [
    "n = wh.vehicles.size\n",
    "SSxy = wh.cov()['vehicles']['time'] * (n - 1)\n",
    "SSxx = wh.vehicles.var() * (n-1)\n",
    "b1 = SSxy / SSxx\n",
    "b1"
   ]
  },
  {
   "cell_type": "code",
   "execution_count": 19,
   "metadata": {
    "collapsed": false
   },
   "outputs": [
    {
     "data": {
      "text/plain": [
       "-0.0010476190476190438"
      ]
     },
     "execution_count": 19,
     "metadata": {},
     "output_type": "execute_result"
    }
   ],
   "source": [
    "b0 = wh.time.mean() - (b1 * wh.vehicles.mean())\n",
    "b0"
   ]
  },
  {
   "cell_type": "code",
   "execution_count": 20,
   "metadata": {
    "collapsed": false
   },
   "outputs": [
    {
     "data": {
      "image/png": "[encoded data removed]",
      "text/plain": [
       "<matplotlib.figure.Figure at 0x11cc2d4e0>"
      ]
     },
     "metadata": {},
     "output_type": "display_data"
    }
   ],
   "source": [
    "plt.scatter(wh.vehicles, wh.time)\n",
    "yHat = b1 * wh.vehicles + b0\n",
    "plt.plot(wh.vehicles, yHat)\n",
    "plt.xlabel(\"vehicles\")\n",
    "plt.ylabel(\"time\")\n",
    "plt.title(\"ex 3.11 + regression line\");"
   ]
  },
  {
   "cell_type": "markdown",
   "metadata": {},
   "source": [
    "## 3.13\n",
    "\n",
    "### Answers\n",
    "\n",
    "* a) y = -0.0023 x + 6.252\n",
    "* b) b1: for each 1 ppm increase in pectin, sweetness index decreases by 0.0023; b0: in absence of pectin, sweetness index starts at 6.252\n",
    "* c) 5.558880144308942"
   ]
  },
  {
   "cell_type": "code",
   "execution_count": 21,
   "metadata": {
    "collapsed": false
   },
   "outputs": [
    {
     "data": {
      "text/html": [
       "<div>\n",
       "<table border=\"1\" class=\"dataframe\">\n",
       "  <thead>\n",
       "    <tr style=\"text-align: right;\">\n",
       "      <th></th>\n",
       "      <th>run</th>\n",
       "      <th>sweetness</th>\n",
       "      <th>pectin</th>\n",
       "    </tr>\n",
       "  </thead>\n",
       "  <tbody>\n",
       "    <tr>\n",
       "      <th>0</th>\n",
       "      <td>1</td>\n",
       "      <td>5.2</td>\n",
       "      <td>220</td>\n",
       "    </tr>\n",
       "    <tr>\n",
       "      <th>1</th>\n",
       "      <td>2</td>\n",
       "      <td>5.5</td>\n",
       "      <td>227</td>\n",
       "    </tr>\n",
       "    <tr>\n",
       "      <th>2</th>\n",
       "      <td>3</td>\n",
       "      <td>6.0</td>\n",
       "      <td>259</td>\n",
       "    </tr>\n",
       "    <tr>\n",
       "      <th>3</th>\n",
       "      <td>4</td>\n",
       "      <td>5.9</td>\n",
       "      <td>210</td>\n",
       "    </tr>\n",
       "    <tr>\n",
       "      <th>4</th>\n",
       "      <td>5</td>\n",
       "      <td>5.8</td>\n",
       "      <td>224</td>\n",
       "    </tr>\n",
       "  </tbody>\n",
       "</table>\n",
       "</div>"
      ],
      "text/plain": [
       "   run  sweetness  pectin\n",
       "0    1        5.2     220\n",
       "1    2        5.5     227\n",
       "2    3        6.0     259\n",
       "3    4        5.9     210\n",
       "4    5        5.8     224"
      ]
     },
     "execution_count": 21,
     "metadata": {},
     "output_type": "execute_result"
    }
   ],
   "source": [
    "oj = pd.read_fwf(\"../data/ch03/Ojuice.dat\", names=[\"run\", \"sweetness\", \"pectin\"], colspecs=\"infer\")\n",
    "oj.head()"
   ]
  },
  {
   "cell_type": "code",
   "execution_count": 22,
   "metadata": {
    "collapsed": false
   },
   "outputs": [
    {
     "data": {
      "text/plain": [
       "-0.0023106258824640877"
      ]
     },
     "execution_count": 22,
     "metadata": {},
     "output_type": "execute_result"
    }
   ],
   "source": [
    "n = oj.run.size\n",
    "SSxx = oj.pectin.var() * (n-1)\n",
    "SSxy = oj.cov()['pectin']['sweetness'] * (n-1)\n",
    "b1 = SSxy / SSxx\n",
    "b1"
   ]
  },
  {
   "cell_type": "code",
   "execution_count": 23,
   "metadata": {
    "collapsed": false
   },
   "outputs": [
    {
     "data": {
      "text/plain": [
       "6.2520679090481686"
      ]
     },
     "execution_count": 23,
     "metadata": {},
     "output_type": "execute_result"
    }
   ],
   "source": [
    "b0 = (oj.sweetness.mean() - b1 * oj.pectin.mean())\n",
    "b0"
   ]
  },
  {
   "cell_type": "code",
   "execution_count": 24,
   "metadata": {
    "collapsed": true
   },
   "outputs": [],
   "source": [
    "yHat = b1 * oj.pectin + b0"
   ]
  },
  {
   "cell_type": "code",
   "execution_count": 25,
   "metadata": {
    "collapsed": false
   },
   "outputs": [
    {
     "data": {
      "text/plain": [
       "5.558880144308942"
      ]
     },
     "execution_count": 25,
     "metadata": {},
     "output_type": "execute_result"
    }
   ],
   "source": [
    "sweetnessIndex = b1 * 300 + b0\n",
    "sweetnessIndex"
   ]
  },
  {
   "cell_type": "markdown",
   "metadata": {},
   "source": [
    "## 3.15\n",
    "\n",
    "### Answers\n",
    "\n",
    "* estimate line : E(y) = 0.57044 + 0.02642 x\n",
    "* interpret betas: for each 1 position increase, recall goes up by a factor of 0.02642; at position 0, recall is 0.570"
   ]
  },
  {
   "cell_type": "code",
   "execution_count": 26,
   "metadata": {
    "collapsed": false
   },
   "outputs": [
    {
     "data": {
      "text/html": [
       "<div>\n",
       "<table border=\"1\" class=\"dataframe\">\n",
       "  <thead>\n",
       "    <tr style=\"text-align: right;\">\n",
       "      <th></th>\n",
       "      <th>position</th>\n",
       "      <th>recall</th>\n",
       "    </tr>\n",
       "  </thead>\n",
       "  <tbody>\n",
       "    <tr>\n",
       "      <th>0</th>\n",
       "      <td>2</td>\n",
       "      <td>0.04</td>\n",
       "    </tr>\n",
       "    <tr>\n",
       "      <th>1</th>\n",
       "      <td>2</td>\n",
       "      <td>0.37</td>\n",
       "    </tr>\n",
       "    <tr>\n",
       "      <th>2</th>\n",
       "      <td>2</td>\n",
       "      <td>1.00</td>\n",
       "    </tr>\n",
       "    <tr>\n",
       "      <th>3</th>\n",
       "      <td>2</td>\n",
       "      <td>0.99</td>\n",
       "    </tr>\n",
       "    <tr>\n",
       "      <th>4</th>\n",
       "      <td>2</td>\n",
       "      <td>0.79</td>\n",
       "    </tr>\n",
       "  </tbody>\n",
       "</table>\n",
       "</div>"
      ],
      "text/plain": [
       "   position  recall\n",
       "0         2    0.04\n",
       "1         2    0.37\n",
       "2         2    1.00\n",
       "3         2    0.99\n",
       "4         2    0.79"
      ]
     },
     "execution_count": 26,
     "metadata": {},
     "output_type": "execute_result"
    }
   ],
   "source": [
    "ng = pd.read_fwf(\"../data/ch03/namegame2.dat\", colspecs=\"infer\", names=[\"position\", \"recall\"])\n",
    "ng.head()"
   ]
  },
  {
   "cell_type": "code",
   "execution_count": 27,
   "metadata": {
    "collapsed": false
   },
   "outputs": [
    {
     "data": {
      "text/plain": [
       "0.026421957671957666"
      ]
     },
     "execution_count": 27,
     "metadata": {},
     "output_type": "execute_result"
    }
   ],
   "source": [
    "n = ng.position.size\n",
    "SSxx = ng.position.var() * (n-1)\n",
    "SSxy = ng.cov()['position']['recall'] * (n-1)\n",
    "b1 = SSxy / SSxx\n",
    "b1"
   ]
  },
  {
   "cell_type": "code",
   "execution_count": 28,
   "metadata": {
    "collapsed": false
   },
   "outputs": [
    {
     "data": {
      "text/plain": [
       "0.57044312169312106"
      ]
     },
     "execution_count": 28,
     "metadata": {},
     "output_type": "execute_result"
    }
   ],
   "source": [
    "b0 = (ng.recall.mean() - b1 * ng.position.mean())\n",
    "b0"
   ]
  },
  {
   "cell_type": "markdown",
   "metadata": {},
   "source": [
    "## 3.17\n",
    "\n",
    "* find SSE, s^2, and s\n",
    "\n",
    "### Answers\n",
    "\n",
    "* a) 3.7 : (1.6000000000000005, 0.5333333333333335, 0.7302967433402217)\n",
    "* b) 3.11: (0.0006804761904761908, 5.234432234432237e-05, 0.007234937618550858)\n",
    "* c) 3.13: (1.0171079500000006, 0.046232179545454576, 0.2150166959690679)\n",
    "* d) 3.15: (9.172537398399989, 0.06459533379154922, 0.25415612090120754)"
   ]
  },
  {
   "cell_type": "code",
   "execution_count": 29,
   "metadata": {
    "collapsed": true
   },
   "outputs": [],
   "source": [
    "import math\n",
    "def calculate_error_metrics(df):\n",
    "    SSE = df.residual.apply(lambda x: math.pow(x, 2)).sum()\n",
    "    sSquared = SSE / (len(df) - 2)\n",
    "    s = math.sqrt(sSquared)\n",
    "    return (SSE, sSquared, s)"
   ]
  },
  {
   "cell_type": "code",
   "execution_count": 30,
   "metadata": {
    "collapsed": false
   },
   "outputs": [
    {
     "data": {
      "text/html": [
       "<div>\n",
       "<table border=\"1\" class=\"dataframe\">\n",
       "  <thead>\n",
       "    <tr style=\"text-align: right;\">\n",
       "      <th></th>\n",
       "      <th>x</th>\n",
       "      <th>y</th>\n",
       "      <th>predicted</th>\n",
       "      <th>residual</th>\n",
       "    </tr>\n",
       "  </thead>\n",
       "  <tbody>\n",
       "    <tr>\n",
       "      <th>0</th>\n",
       "      <td>-2</td>\n",
       "      <td>4</td>\n",
       "      <td>4.4</td>\n",
       "      <td>-0.4</td>\n",
       "    </tr>\n",
       "    <tr>\n",
       "      <th>1</th>\n",
       "      <td>-1</td>\n",
       "      <td>3</td>\n",
       "      <td>3.2</td>\n",
       "      <td>-0.2</td>\n",
       "    </tr>\n",
       "    <tr>\n",
       "      <th>2</th>\n",
       "      <td>0</td>\n",
       "      <td>3</td>\n",
       "      <td>2.0</td>\n",
       "      <td>1.0</td>\n",
       "    </tr>\n",
       "    <tr>\n",
       "      <th>3</th>\n",
       "      <td>1</td>\n",
       "      <td>1</td>\n",
       "      <td>0.8</td>\n",
       "      <td>0.2</td>\n",
       "    </tr>\n",
       "    <tr>\n",
       "      <th>4</th>\n",
       "      <td>2</td>\n",
       "      <td>-1</td>\n",
       "      <td>-0.4</td>\n",
       "      <td>-0.6</td>\n",
       "    </tr>\n",
       "  </tbody>\n",
       "</table>\n",
       "</div>"
      ],
      "text/plain": [
       "   x  y  predicted  residual\n",
       "0 -2  4        4.4      -0.4\n",
       "1 -1  3        3.2      -0.2\n",
       "2  0  3        2.0       1.0\n",
       "3  1  1        0.8       0.2\n",
       "4  2 -1       -0.4      -0.6"
      ]
     },
     "execution_count": 30,
     "metadata": {},
     "output_type": "execute_result"
    }
   ],
   "source": [
    "ex3_7['predicted'] = -1.2 * ex3_7.x + 2.0\n",
    "ex3_7['residual'] = ex3_7.y - ex3_7.predicted\n",
    "ex3_7"
   ]
  },
  {
   "cell_type": "code",
   "execution_count": 31,
   "metadata": {
    "collapsed": false
   },
   "outputs": [
    {
     "data": {
      "text/plain": [
       "(1.6000000000000005, 0.5333333333333335, 0.7302967433402217)"
      ]
     },
     "execution_count": 31,
     "metadata": {},
     "output_type": "execute_result"
    }
   ],
   "source": [
    "calculate_error_metrics(ex3_7)"
   ]
  },
  {
   "cell_type": "code",
   "execution_count": 32,
   "metadata": {
    "collapsed": false
   },
   "outputs": [
    {
     "data": {
      "text/plain": [
       "(0.0006804761904761908, 5.234432234432237e-05, 0.007234937618550858)"
      ]
     },
     "execution_count": 32,
     "metadata": {},
     "output_type": "execute_result"
    }
   ],
   "source": [
    "wh['predicted'] = 0.0032142857142857138 * wh.vehicles -0.0010476190476190438\n",
    "wh['residual'] = wh.time - wh.predicted\n",
    "calculate_error_metrics(wh)"
   ]
  },
  {
   "cell_type": "code",
   "execution_count": 33,
   "metadata": {
    "collapsed": false
   },
   "outputs": [
    {
     "data": {
      "text/plain": [
       "(1.0169314421815812, 0.04622415646279914, 0.21499803827662972)"
      ]
     },
     "execution_count": 33,
     "metadata": {},
     "output_type": "execute_result"
    }
   ],
   "source": [
    "oj['predicted'] = -0.0023106258824640877 * oj.pectin + 6.2520679090481686\n",
    "oj['residual'] = oj.sweetness - oj.predicted\n",
    "calculate_error_metrics(oj)"
   ]
  },
  {
   "cell_type": "code",
   "execution_count": 34,
   "metadata": {
    "collapsed": false
   },
   "outputs": [
    {
     "data": {
      "text/plain": [
       "(9.172537398399989, 0.06459533379154922, 0.25415612090120754)"
      ]
     },
     "execution_count": 34,
     "metadata": {},
     "output_type": "execute_result"
    }
   ],
   "source": [
    "ng['predicted'] =  0.57044 + 0.02642 * ng.position\n",
    "ng['residual'] = ng.recall - ng.predicted\n",
    "calculate_error_metrics(ng)"
   ]
  },
  {
   "cell_type": "markdown",
   "metadata": {},
   "source": [
    "## 3.19\n",
    "\n",
    "### Answers\n",
    "\n",
    "* a) scatterplot: x days, y charge : see below\n",
    "* b) regression model: charge = 2884.877 * days + 223.930\n",
    "* c) s = ?; interpret: 2496.667 -> we expect the observed charge value to lie within 4993.334000 of the predicted y value\n",
    "* d) y^+-2s for x = 4 d => (6770.1030232804924, 11763.437023280492, 16756.771023280493)\n",
    "* e) fraction of states in data with avg charge within +/- 2s of line? 91.7%"
   ]
  },
  {
   "cell_type": "code",
   "execution_count": 35,
   "metadata": {
    "collapsed": false
   },
   "outputs": [
    {
     "data": {
      "text/html": [
       "<div>\n",
       "<table border=\"1\" class=\"dataframe\">\n",
       "  <thead>\n",
       "    <tr style=\"text-align: right;\">\n",
       "      <th></th>\n",
       "      <th>state</th>\n",
       "      <th>charge</th>\n",
       "      <th>days</th>\n",
       "    </tr>\n",
       "  </thead>\n",
       "  <tbody>\n",
       "    <tr>\n",
       "      <th>0</th>\n",
       "      <td>Massachusetts</td>\n",
       "      <td>11680</td>\n",
       "      <td>3.64</td>\n",
       "    </tr>\n",
       "    <tr>\n",
       "      <th>1</th>\n",
       "      <td>NewJersey</td>\n",
       "      <td>11630</td>\n",
       "      <td>4.20</td>\n",
       "    </tr>\n",
       "    <tr>\n",
       "      <th>2</th>\n",
       "      <td>Pennsylvania</td>\n",
       "      <td>9850</td>\n",
       "      <td>3.84</td>\n",
       "    </tr>\n",
       "    <tr>\n",
       "      <th>3</th>\n",
       "      <td>Minnesota</td>\n",
       "      <td>9950</td>\n",
       "      <td>3.11</td>\n",
       "    </tr>\n",
       "    <tr>\n",
       "      <th>4</th>\n",
       "      <td>Indiana</td>\n",
       "      <td>8490</td>\n",
       "      <td>3.86</td>\n",
       "    </tr>\n",
       "  </tbody>\n",
       "</table>\n",
       "</div>"
      ],
      "text/plain": [
       "           state  charge  days\n",
       "0  Massachusetts   11680  3.64\n",
       "1      NewJersey   11630  4.20\n",
       "2   Pennsylvania    9850  3.84\n",
       "3      Minnesota    9950  3.11\n",
       "4        Indiana    8490  3.86"
      ]
     },
     "execution_count": 35,
     "metadata": {},
     "output_type": "execute_result"
    }
   ],
   "source": [
    "hospital = pd.read_fwf(\"../data/ch03/Hospital.dat\", colspecs=\"infer\", names=[\"state\", \"charge\", \"days\"])\n",
    "hospital.head()"
   ]
  },
  {
   "cell_type": "code",
   "execution_count": 36,
   "metadata": {
    "collapsed": false
   },
   "outputs": [
    {
     "data": {
      "image/png": "[encoded data removed]",
      "text/plain": [
       "<matplotlib.figure.Figure at 0x11cb57588>"
      ]
     },
     "metadata": {},
     "output_type": "display_data"
    }
   ],
   "source": [
    "# %load ../snippets/plot\n",
    "plt.scatter(hospital.days, hospital.charge)\n",
    "\n",
    "plt.xlabel(\"days\")\n",
    "plt.ylabel(\"charge\")\n",
    "plt.title(\"ex 3-19\");"
   ]
  },
  {
   "cell_type": "code",
   "execution_count": 37,
   "metadata": {
    "collapsed": false
   },
   "outputs": [
    {
     "name": "stdout",
     "output_type": "stream",
     "text": [
      "b1: 2884.876681, b0: 223.930301\n"
     ]
    }
   ],
   "source": [
    "r = np.corrcoef(hospital.days, hospital.charge)[0][1]\n",
    "b1 = r * (hospital.charge.std() / hospital.days.std())\n",
    "b0 = hospital.charge.mean() - b1 * hospital.days.mean()\n",
    "print(\"b1: %f, b0: %f\" % (b1, b0))"
   ]
  },
  {
   "cell_type": "code",
   "execution_count": 38,
   "metadata": {
    "collapsed": false
   },
   "outputs": [
    {
     "data": {
      "text/plain": [
       "(62333443.76391665, 6233344.376391665, 2496.6666530379393)"
      ]
     },
     "execution_count": 38,
     "metadata": {},
     "output_type": "execute_result"
    }
   ],
   "source": [
    "hospital['predicted'] = b1 * hospital.days + b0\n",
    "hospital['residual'] = hospital.charge - hospital.predicted\n",
    "\n",
    "calculate_error_metrics(hospital)"
   ]
  },
  {
   "cell_type": "code",
   "execution_count": 39,
   "metadata": {
    "collapsed": false
   },
   "outputs": [
    {
     "name": "stdout",
     "output_type": "stream",
     "text": [
      "we expect the observed charge value to lie within 4993.334000 of the predicted y value\n"
     ]
    }
   ],
   "source": [
    "s = 2496.667\n",
    "print(\"we expect the observed charge value to lie within %f of the predicted y value\" % (2 * s,))"
   ]
  },
  {
   "cell_type": "code",
   "execution_count": 40,
   "metadata": {
    "collapsed": false
   },
   "outputs": [
    {
     "data": {
      "text/plain": [
       "11763.437023280492"
      ]
     },
     "execution_count": 40,
     "metadata": {},
     "output_type": "execute_result"
    }
   ],
   "source": [
    "predicted = b0 + b1 * 4\n",
    "predicted"
   ]
  },
  {
   "cell_type": "code",
   "execution_count": 41,
   "metadata": {
    "collapsed": false
   },
   "outputs": [
    {
     "data": {
      "text/plain": [
       "16756.771023280493"
      ]
     },
     "execution_count": 41,
     "metadata": {},
     "output_type": "execute_result"
    }
   ],
   "source": [
    "predicted + 2 * s"
   ]
  },
  {
   "cell_type": "code",
   "execution_count": 42,
   "metadata": {
    "collapsed": false
   },
   "outputs": [
    {
     "data": {
      "text/plain": [
       "6770.1030232804924"
      ]
     },
     "execution_count": 42,
     "metadata": {},
     "output_type": "execute_result"
    }
   ],
   "source": [
    "predicted - 2 * s"
   ]
  },
  {
   "cell_type": "code",
   "execution_count": 43,
   "metadata": {
    "collapsed": false
   },
   "outputs": [
    {
     "data": {
      "text/html": [
       "<div>\n",
       "<table border=\"1\" class=\"dataframe\">\n",
       "  <thead>\n",
       "    <tr style=\"text-align: right;\">\n",
       "      <th></th>\n",
       "      <th>state</th>\n",
       "      <th>charge</th>\n",
       "      <th>days</th>\n",
       "      <th>predicted</th>\n",
       "      <th>residual</th>\n",
       "    </tr>\n",
       "  </thead>\n",
       "  <tbody>\n",
       "    <tr>\n",
       "      <th>0</th>\n",
       "      <td>Massachusetts</td>\n",
       "      <td>11680</td>\n",
       "      <td>3.64</td>\n",
       "      <td>10724.881418</td>\n",
       "      <td>955.118582</td>\n",
       "    </tr>\n",
       "    <tr>\n",
       "      <th>1</th>\n",
       "      <td>NewJersey</td>\n",
       "      <td>11630</td>\n",
       "      <td>4.20</td>\n",
       "      <td>12340.412359</td>\n",
       "      <td>-710.412359</td>\n",
       "    </tr>\n",
       "    <tr>\n",
       "      <th>2</th>\n",
       "      <td>Pennsylvania</td>\n",
       "      <td>9850</td>\n",
       "      <td>3.84</td>\n",
       "      <td>11301.856754</td>\n",
       "      <td>-1451.856754</td>\n",
       "    </tr>\n",
       "    <tr>\n",
       "      <th>3</th>\n",
       "      <td>Minnesota</td>\n",
       "      <td>9950</td>\n",
       "      <td>3.11</td>\n",
       "      <td>9195.896777</td>\n",
       "      <td>754.103223</td>\n",
       "    </tr>\n",
       "    <tr>\n",
       "      <th>4</th>\n",
       "      <td>Indiana</td>\n",
       "      <td>8490</td>\n",
       "      <td>3.86</td>\n",
       "      <td>11359.554288</td>\n",
       "      <td>-2869.554288</td>\n",
       "    </tr>\n",
       "    <tr>\n",
       "      <th>5</th>\n",
       "      <td>Michigan</td>\n",
       "      <td>9020</td>\n",
       "      <td>3.54</td>\n",
       "      <td>10436.393750</td>\n",
       "      <td>-1416.393750</td>\n",
       "    </tr>\n",
       "    <tr>\n",
       "      <th>6</th>\n",
       "      <td>Florida</td>\n",
       "      <td>13820</td>\n",
       "      <td>4.08</td>\n",
       "      <td>11994.227158</td>\n",
       "      <td>1825.772842</td>\n",
       "    </tr>\n",
       "    <tr>\n",
       "      <th>7</th>\n",
       "      <td>Georgia</td>\n",
       "      <td>8440</td>\n",
       "      <td>3.57</td>\n",
       "      <td>10522.940051</td>\n",
       "      <td>-2082.940051</td>\n",
       "    </tr>\n",
       "    <tr>\n",
       "      <th>8</th>\n",
       "      <td>Tennessee</td>\n",
       "      <td>8790</td>\n",
       "      <td>3.80</td>\n",
       "      <td>11186.461687</td>\n",
       "      <td>-2396.461687</td>\n",
       "    </tr>\n",
       "    <tr>\n",
       "      <th>9</th>\n",
       "      <td>Texas</td>\n",
       "      <td>10400</td>\n",
       "      <td>3.52</td>\n",
       "      <td>10378.696217</td>\n",
       "      <td>21.303783</td>\n",
       "    </tr>\n",
       "    <tr>\n",
       "      <th>10</th>\n",
       "      <td>Arizona</td>\n",
       "      <td>12860</td>\n",
       "      <td>3.77</td>\n",
       "      <td>11099.915387</td>\n",
       "      <td>1760.084613</td>\n",
       "    </tr>\n",
       "    <tr>\n",
       "      <th>11</th>\n",
       "      <td>California</td>\n",
       "      <td>16740</td>\n",
       "      <td>3.78</td>\n",
       "      <td>11128.764154</td>\n",
       "      <td>5611.235846</td>\n",
       "    </tr>\n",
       "  </tbody>\n",
       "</table>\n",
       "</div>"
      ],
      "text/plain": [
       "            state  charge  days     predicted     residual\n",
       "0   Massachusetts   11680  3.64  10724.881418   955.118582\n",
       "1       NewJersey   11630  4.20  12340.412359  -710.412359\n",
       "2    Pennsylvania    9850  3.84  11301.856754 -1451.856754\n",
       "3       Minnesota    9950  3.11   9195.896777   754.103223\n",
       "4         Indiana    8490  3.86  11359.554288 -2869.554288\n",
       "5        Michigan    9020  3.54  10436.393750 -1416.393750\n",
       "6         Florida   13820  4.08  11994.227158  1825.772842\n",
       "7         Georgia    8440  3.57  10522.940051 -2082.940051\n",
       "8       Tennessee    8790  3.80  11186.461687 -2396.461687\n",
       "9           Texas   10400  3.52  10378.696217    21.303783\n",
       "10        Arizona   12860  3.77  11099.915387  1760.084613\n",
       "11     California   16740  3.78  11128.764154  5611.235846"
      ]
     },
     "execution_count": 43,
     "metadata": {},
     "output_type": "execute_result"
    }
   ],
   "source": [
    "hospital"
   ]
  },
  {
   "cell_type": "code",
   "execution_count": 44,
   "metadata": {
    "collapsed": false
   },
   "outputs": [
    {
     "data": {
      "text/plain": [
       "0.91666666666666663"
      ]
     },
     "execution_count": 44,
     "metadata": {},
     "output_type": "execute_result"
    }
   ],
   "source": [
    "n1 = (np.abs(hospital.residual) <= 2 * s).sum()\n",
    "n1 / len(hospital)"
   ]
  },
  {
   "cell_type": "markdown",
   "metadata": {},
   "source": [
    "## 3.21\n",
    "\n",
    "* s = sqrt(SSE / n-2)\n",
    "* sBeta1 = s / sqrt(SSx)\n",
    "\n",
    "### Answers\n",
    "\n",
    "* a) 3.6 -- skip : even # ex.\n",
    "* b) 3.7 -- t = -5.196, tRej = -3.182 => reject H0"
   ]
  },
  {
   "cell_type": "code",
   "execution_count": 45,
   "metadata": {
    "collapsed": false
   },
   "outputs": [
    {
     "data": {
      "text/html": [
       "<div>\n",
       "<table border=\"1\" class=\"dataframe\">\n",
       "  <thead>\n",
       "    <tr style=\"text-align: right;\">\n",
       "      <th></th>\n",
       "      <th>x</th>\n",
       "      <th>y</th>\n",
       "      <th>predicted</th>\n",
       "      <th>residual</th>\n",
       "    </tr>\n",
       "  </thead>\n",
       "  <tbody>\n",
       "    <tr>\n",
       "      <th>0</th>\n",
       "      <td>-2</td>\n",
       "      <td>4</td>\n",
       "      <td>4.4</td>\n",
       "      <td>-0.4</td>\n",
       "    </tr>\n",
       "    <tr>\n",
       "      <th>1</th>\n",
       "      <td>-1</td>\n",
       "      <td>3</td>\n",
       "      <td>3.2</td>\n",
       "      <td>-0.2</td>\n",
       "    </tr>\n",
       "    <tr>\n",
       "      <th>2</th>\n",
       "      <td>0</td>\n",
       "      <td>3</td>\n",
       "      <td>2.0</td>\n",
       "      <td>1.0</td>\n",
       "    </tr>\n",
       "    <tr>\n",
       "      <th>3</th>\n",
       "      <td>1</td>\n",
       "      <td>1</td>\n",
       "      <td>0.8</td>\n",
       "      <td>0.2</td>\n",
       "    </tr>\n",
       "    <tr>\n",
       "      <th>4</th>\n",
       "      <td>2</td>\n",
       "      <td>-1</td>\n",
       "      <td>-0.4</td>\n",
       "      <td>-0.6</td>\n",
       "    </tr>\n",
       "  </tbody>\n",
       "</table>\n",
       "</div>"
      ],
      "text/plain": [
       "   x  y  predicted  residual\n",
       "0 -2  4        4.4      -0.4\n",
       "1 -1  3        3.2      -0.2\n",
       "2  0  3        2.0       1.0\n",
       "3  1  1        0.8       0.2\n",
       "4  2 -1       -0.4      -0.6"
      ]
     },
     "execution_count": 45,
     "metadata": {},
     "output_type": "execute_result"
    }
   ],
   "source": [
    "ex3_7"
   ]
  },
  {
   "cell_type": "code",
   "execution_count": 46,
   "metadata": {
    "collapsed": false
   },
   "outputs": [
    {
     "data": {
      "text/plain": [
       "-5.19615242270663"
      ]
     },
     "execution_count": 46,
     "metadata": {},
     "output_type": "execute_result"
    }
   ],
   "source": [
    "n = len(ex3_7)\n",
    "SSE = np.power(ex3_7.residual, 2).sum()\n",
    "s = math.sqrt(SSE / (n - 2))\n",
    "SSx = ex3_7.x.var() * (n - 1)\n",
    "b1 = -1.2\n",
    "sBeta1 = s / math.sqrt(SSx)\n",
    "t = b1 / sBeta1\n",
    "t"
   ]
  },
  {
   "cell_type": "code",
   "execution_count": 47,
   "metadata": {
    "collapsed": false
   },
   "outputs": [
    {
     "data": {
      "text/plain": [
       "3.1824463052842629"
      ]
     },
     "execution_count": 47,
     "metadata": {},
     "output_type": "execute_result"
    }
   ],
   "source": [
    "# figure out our rejection region\n",
    "alpha = 0.05\n",
    "tRej = stats.t.ppf(1 - (alpha / 2), n - 2)\n",
    "tRej"
   ]
  },
  {
   "cell_type": "markdown",
   "metadata": {},
   "source": [
    "## 3.23\n",
    "\n",
    "### Answers\n",
    "\n",
    "* [-0.003864, -0.000757]: We can say with 95% confidence that the sweetness index will decrease between 0.0039 and 0.0008 for each 1 unit increase in pectin."
   ]
  },
  {
   "cell_type": "code",
   "execution_count": 48,
   "metadata": {
    "collapsed": false
   },
   "outputs": [
    {
     "data": {
      "text/plain": [
       "-2.5535154460648624"
      ]
     },
     "execution_count": 48,
     "metadata": {},
     "output_type": "execute_result"
    }
   ],
   "source": [
    "n = len(oj)\n",
    "SSE = np.power(oj.residual, 2).sum()\n",
    "s = math.sqrt(SSE / (n - 2))\n",
    "SSx = oj.pectin.var() * (n - 1)\n",
    "beta1 = -0.0023106258824640877\n",
    "sBeta1 = s / math.sqrt(SSx)\n",
    "t = beta1 / sBeta1\n",
    "t"
   ]
  },
  {
   "cell_type": "code",
   "execution_count": 49,
   "metadata": {
    "collapsed": false
   },
   "outputs": [
    {
     "data": {
      "text/plain": [
       "1.7171443743802419"
      ]
     },
     "execution_count": 49,
     "metadata": {},
     "output_type": "execute_result"
    }
   ],
   "source": [
    "# figure out our rejection region\n",
    "alpha = 0.10\n",
    "tRej = stats.t.ppf(1 - (alpha / 2), n - 2)\n",
    "tRej"
   ]
  },
  {
   "cell_type": "code",
   "execution_count": 50,
   "metadata": {
    "collapsed": false
   },
   "outputs": [
    {
     "name": "stdout",
     "output_type": "stream",
     "text": [
      "[-0.003864, -0.000757]\n"
     ]
    }
   ],
   "source": [
    "# generate a confidence interval for our beta^1 param\n",
    "# beta1 +/- tRej * sBeta1\n",
    "ciLow = beta1 - tRej * sBeta1\n",
    "ciHigh = beta1 + tRej * sBeta1\n",
    "print(\"[%f, %f]\" %(ciLow, ciHigh))"
   ]
  },
  {
   "cell_type": "markdown",
   "metadata": {},
   "source": [
    "## 3.25\n",
    "\n",
    "### Background\n",
    "\n",
    "* n = 39\n",
    "* beta1 = 0.88\n",
    "* sBeta1 = .14\n",
    "\n",
    "### Answers\n",
    "\n",
    "* a) reject H0 => positively related\n",
    "* b) [0.643807, 1.116193] For every 1 degree increase in head movement, body plus head rotation will increase between 0.644 and 1.116 degrees.\n",
    "* c) No - 1 falls within the CI, so the slope does not differ significantly from 1."
   ]
  },
  {
   "cell_type": "code",
   "execution_count": 51,
   "metadata": {
    "collapsed": false
   },
   "outputs": [
    {
     "data": {
      "text/plain": [
       "6.285714285714286"
      ]
     },
     "execution_count": 51,
     "metadata": {},
     "output_type": "execute_result"
    }
   ],
   "source": [
    "n = 39\n",
    "beta1 = 0.88\n",
    "sBeta1 = 0.14\n",
    "t = beta1 / sBeta1\n",
    "t"
   ]
  },
  {
   "cell_type": "code",
   "execution_count": 52,
   "metadata": {
    "collapsed": false
   },
   "outputs": [
    {
     "data": {
      "text/plain": [
       "1.6870936167109873"
      ]
     },
     "execution_count": 52,
     "metadata": {},
     "output_type": "execute_result"
    }
   ],
   "source": [
    "# figure out our rejection region\n",
    "alpha = 0.05\n",
    "tRej = stats.t.ppf(1 - alpha, n - 2)\n",
    "tRej"
   ]
  },
  {
   "cell_type": "code",
   "execution_count": 53,
   "metadata": {
    "collapsed": false
   },
   "outputs": [
    {
     "name": "stdout",
     "output_type": "stream",
     "text": [
      "[0.643807, 1.116193]\n"
     ]
    }
   ],
   "source": [
    "# generate a confidence interval for our beta^1 param\n",
    "# beta1 +/- tRej * sBeta1\n",
    "ciLow = beta1 - tRej * sBeta1\n",
    "ciHigh = beta1 + tRej * sBeta1\n",
    "print(\"[%f, %f]\" %(ciLow, ciHigh))"
   ]
  },
  {
   "cell_type": "markdown",
   "metadata": {},
   "source": [
    "## 3.27\n",
    "\n",
    "### Answers\n",
    "\n",
    "* t = 2.5969345194435576 => reject H0"
   ]
  },
  {
   "cell_type": "code",
   "execution_count": 54,
   "metadata": {
    "collapsed": false
   },
   "outputs": [
    {
     "data": {
      "text/html": [
       "<div>\n",
       "<table border=\"1\" class=\"dataframe\">\n",
       "  <thead>\n",
       "    <tr style=\"text-align: right;\">\n",
       "      <th></th>\n",
       "      <th>lactate</th>\n",
       "      <th>recovery</th>\n",
       "    </tr>\n",
       "  </thead>\n",
       "  <tbody>\n",
       "    <tr>\n",
       "      <th>0</th>\n",
       "      <td>3.8</td>\n",
       "      <td>7</td>\n",
       "    </tr>\n",
       "    <tr>\n",
       "      <th>1</th>\n",
       "      <td>4.2</td>\n",
       "      <td>7</td>\n",
       "    </tr>\n",
       "    <tr>\n",
       "      <th>2</th>\n",
       "      <td>4.8</td>\n",
       "      <td>11</td>\n",
       "    </tr>\n",
       "    <tr>\n",
       "      <th>3</th>\n",
       "      <td>4.1</td>\n",
       "      <td>12</td>\n",
       "    </tr>\n",
       "    <tr>\n",
       "      <th>4</th>\n",
       "      <td>5.0</td>\n",
       "      <td>12</td>\n",
       "    </tr>\n",
       "  </tbody>\n",
       "</table>\n",
       "</div>"
      ],
      "text/plain": [
       "   lactate  recovery\n",
       "0      3.8         7\n",
       "1      4.2         7\n",
       "2      4.8        11\n",
       "3      4.1        12\n",
       "4      5.0        12"
      ]
     },
     "execution_count": 54,
     "metadata": {},
     "output_type": "execute_result"
    }
   ],
   "source": [
    "boxing = pd.read_fwf(\"../data/ch03/boxing2.dat\", colspecs=\"infer\", names=[\"lactate\", \"recovery\"])\n",
    "boxing.head()"
   ]
  },
  {
   "cell_type": "code",
   "execution_count": 55,
   "metadata": {
    "collapsed": false
   },
   "outputs": [
    {
     "data": {
      "text/plain": [
       "(256.4166666666667, 18.315476190476193, 4.279658419836354)"
      ]
     },
     "execution_count": 55,
     "metadata": {},
     "output_type": "execute_result"
    }
   ],
   "source": [
    "r = np.corrcoef(boxing.lactate, boxing.recovery)[0][1]\n",
    "beta1 = r * (boxing.recovery.std() / boxing.lactate.std())\n",
    "beta0 = boxing.recovery.mean() - beta1 * boxing.lactate.mean()\n",
    "boxing['prediction'] = beta0 + beta1 * boxing.lactate\n",
    "boxing['residual'] = boxing.recovery - boxing.prediction\n",
    "calculate_error_metrics(boxing)"
   ]
  },
  {
   "cell_type": "code",
   "execution_count": 56,
   "metadata": {
    "collapsed": true
   },
   "outputs": [],
   "source": [
    "SSE = 256.4166666666667\n",
    "sSquared = 18.315476190476193\n",
    "s = 4.279658419836354"
   ]
  },
  {
   "cell_type": "code",
   "execution_count": 57,
   "metadata": {
    "collapsed": false
   },
   "outputs": [
    {
     "data": {
      "text/plain": [
       "2.5969345194435576"
      ]
     },
     "execution_count": 57,
     "metadata": {},
     "output_type": "execute_result"
    }
   ],
   "source": [
    "SSx = boxing.lactate.var() * (len(boxing) - 1)\n",
    "sBeta1 = s / math.sqrt(SSx)\n",
    "t = beta1 / sBeta1\n",
    "t"
   ]
  },
  {
   "cell_type": "code",
   "execution_count": 58,
   "metadata": {
    "collapsed": false
   },
   "outputs": [
    {
     "data": {
      "text/plain": [
       "1.6870936167109873"
      ]
     },
     "execution_count": 58,
     "metadata": {},
     "output_type": "execute_result"
    }
   ],
   "source": [
    "# figure out our rejection region\n",
    "alpha = 0.1\n",
    "tRej = stats.t.ppf(1 - (alpha / 2), n - 2)\n",
    "tRej"
   ]
  },
  {
   "cell_type": "markdown",
   "metadata": {},
   "source": [
    "## 3.29\n",
    "\n",
    "### Background\n",
    "\n",
    "* E(y) = 0.57044 + 0.02642 x\n",
    "\n",
    "### Answers\n",
    "\n",
    "* t = 2.858203440423017 => reject H0"
   ]
  },
  {
   "cell_type": "code",
   "execution_count": 59,
   "metadata": {
    "collapsed": false
   },
   "outputs": [
    {
     "data": {
      "text/html": [
       "<div>\n",
       "<table border=\"1\" class=\"dataframe\">\n",
       "  <thead>\n",
       "    <tr style=\"text-align: right;\">\n",
       "      <th></th>\n",
       "      <th>position</th>\n",
       "      <th>recall</th>\n",
       "      <th>predicted</th>\n",
       "      <th>residual</th>\n",
       "    </tr>\n",
       "  </thead>\n",
       "  <tbody>\n",
       "    <tr>\n",
       "      <th>0</th>\n",
       "      <td>2</td>\n",
       "      <td>0.04</td>\n",
       "      <td>0.62328</td>\n",
       "      <td>-0.58328</td>\n",
       "    </tr>\n",
       "    <tr>\n",
       "      <th>1</th>\n",
       "      <td>2</td>\n",
       "      <td>0.37</td>\n",
       "      <td>0.62328</td>\n",
       "      <td>-0.25328</td>\n",
       "    </tr>\n",
       "    <tr>\n",
       "      <th>2</th>\n",
       "      <td>2</td>\n",
       "      <td>1.00</td>\n",
       "      <td>0.62328</td>\n",
       "      <td>0.37672</td>\n",
       "    </tr>\n",
       "    <tr>\n",
       "      <th>3</th>\n",
       "      <td>2</td>\n",
       "      <td>0.99</td>\n",
       "      <td>0.62328</td>\n",
       "      <td>0.36672</td>\n",
       "    </tr>\n",
       "    <tr>\n",
       "      <th>4</th>\n",
       "      <td>2</td>\n",
       "      <td>0.79</td>\n",
       "      <td>0.62328</td>\n",
       "      <td>0.16672</td>\n",
       "    </tr>\n",
       "  </tbody>\n",
       "</table>\n",
       "</div>"
      ],
      "text/plain": [
       "   position  recall  predicted  residual\n",
       "0         2    0.04    0.62328  -0.58328\n",
       "1         2    0.37    0.62328  -0.25328\n",
       "2         2    1.00    0.62328   0.37672\n",
       "3         2    0.99    0.62328   0.36672\n",
       "4         2    0.79    0.62328   0.16672"
      ]
     },
     "execution_count": 59,
     "metadata": {},
     "output_type": "execute_result"
    }
   ],
   "source": [
    "ng.head()"
   ]
  },
  {
   "cell_type": "code",
   "execution_count": 60,
   "metadata": {
    "collapsed": true
   },
   "outputs": [],
   "source": [
    "beta1 = 0.02642\n",
    "SSE = np.power(ng.residual, 2).sum()\n",
    "n = len(ng)\n",
    "SSx = ng.position.var() * (n - 1)\n",
    "s = math.sqrt(SSE / (n - 2))\n",
    "sBeta1 = s / math.sqrt(SSx)"
   ]
  },
  {
   "cell_type": "code",
   "execution_count": 61,
   "metadata": {
    "collapsed": false
   },
   "outputs": [
    {
     "data": {
      "text/plain": [
       "2.858203440423017"
      ]
     },
     "execution_count": 61,
     "metadata": {},
     "output_type": "execute_result"
    }
   ],
   "source": [
    "t = beta1 / sBeta1\n",
    "t"
   ]
  },
  {
   "cell_type": "code",
   "execution_count": 62,
   "metadata": {
    "collapsed": false
   },
   "outputs": [
    {
     "data": {
      "text/plain": [
       "2.6108952945291004"
      ]
     },
     "execution_count": 62,
     "metadata": {},
     "output_type": "execute_result"
    }
   ],
   "source": [
    "# figure out our rejection region\n",
    "alpha = 0.01\n",
    "tRej = stats.t.ppf(1 - (alpha / 2), n - 2)\n",
    "tRej"
   ]
  },
  {
   "cell_type": "markdown",
   "metadata": {
    "collapsed": true
   },
   "source": [
    "## 3.31\n",
    "\n",
    "### Answers\n",
    "\n",
    "* r = -0.94868329805051377\n",
    "* r^2 = 0.9000"
   ]
  },
  {
   "cell_type": "code",
   "execution_count": 63,
   "metadata": {
    "collapsed": false
   },
   "outputs": [
    {
     "data": {
      "text/html": [
       "<div>\n",
       "<table border=\"1\" class=\"dataframe\">\n",
       "  <thead>\n",
       "    <tr style=\"text-align: right;\">\n",
       "      <th></th>\n",
       "      <th>x</th>\n",
       "      <th>y</th>\n",
       "      <th>predicted</th>\n",
       "      <th>residual</th>\n",
       "    </tr>\n",
       "  </thead>\n",
       "  <tbody>\n",
       "    <tr>\n",
       "      <th>0</th>\n",
       "      <td>-2</td>\n",
       "      <td>4</td>\n",
       "      <td>4.4</td>\n",
       "      <td>-0.4</td>\n",
       "    </tr>\n",
       "    <tr>\n",
       "      <th>1</th>\n",
       "      <td>-1</td>\n",
       "      <td>3</td>\n",
       "      <td>3.2</td>\n",
       "      <td>-0.2</td>\n",
       "    </tr>\n",
       "    <tr>\n",
       "      <th>2</th>\n",
       "      <td>0</td>\n",
       "      <td>3</td>\n",
       "      <td>2.0</td>\n",
       "      <td>1.0</td>\n",
       "    </tr>\n",
       "    <tr>\n",
       "      <th>3</th>\n",
       "      <td>1</td>\n",
       "      <td>1</td>\n",
       "      <td>0.8</td>\n",
       "      <td>0.2</td>\n",
       "    </tr>\n",
       "    <tr>\n",
       "      <th>4</th>\n",
       "      <td>2</td>\n",
       "      <td>-1</td>\n",
       "      <td>-0.4</td>\n",
       "      <td>-0.6</td>\n",
       "    </tr>\n",
       "  </tbody>\n",
       "</table>\n",
       "</div>"
      ],
      "text/plain": [
       "   x  y  predicted  residual\n",
       "0 -2  4        4.4      -0.4\n",
       "1 -1  3        3.2      -0.2\n",
       "2  0  3        2.0       1.0\n",
       "3  1  1        0.8       0.2\n",
       "4  2 -1       -0.4      -0.6"
      ]
     },
     "execution_count": 63,
     "metadata": {},
     "output_type": "execute_result"
    }
   ],
   "source": [
    "ex3_7.head()"
   ]
  },
  {
   "cell_type": "code",
   "execution_count": 64,
   "metadata": {
    "collapsed": false
   },
   "outputs": [
    {
     "name": "stdout",
     "output_type": "stream",
     "text": [
      "r: -0.948683, rSquared: 0.900000\n"
     ]
    }
   ],
   "source": [
    "num = ex3_7.cov()['x']['y']\n",
    "denom = math.sqrt(ex3_7.x.var() * ex3_7.y.var())\n",
    "r = num/denom\n",
    "rSquared = math.pow(r, 2)\n",
    "print(\"r: %f, rSquared: %f\" % (r, rSquared))"
   ]
  },
  {
   "cell_type": "markdown",
   "metadata": {
    "collapsed": true
   },
   "source": [
    "## 3.33\n",
    "\n",
    "### Answers\n",
    "\n",
    "* yes - it likely shows a positive association: the higher the IQ, the higher the GPA"
   ]
  },
  {
   "cell_type": "markdown",
   "metadata": {
    "collapsed": true
   },
   "source": [
    "## 3.35\n",
    "\n",
    "### Answers\n",
    "\n",
    "* positive: past 3-day sales vs. future 1-day sales\n",
    "* negative: sort rank and sales: the lower the rank of the product on a given search results page, the higher the predicted sales for that product"
   ]
  },
  {
   "cell_type": "markdown",
   "metadata": {
    "collapsed": true
   },
   "source": [
    "## 3.37\n",
    "\n",
    "### Answers\n",
    "\n",
    "* a & b)\n",
    "* piano - .447 : moderately strong positive association (.199809 - 20% of variability in time explained by view)\n",
    "* bench - .057 : weak positive association (.3% of variability in time explained by view)\n",
    "* motorbike - .619 : fairly strong positive (38.3% of variability in time explained by view)\n",
    "* armchair - .294 : fairly weak positive (8.6% ...)\n",
    "* teapot - .949 : very strong positive association (90% ...)\n",
    "\n",
    "* c) at alpha = 0.05, reject H0 for piano, motorbike, and teapot, fail to reject for bench and armchair"
   ]
  },
  {
   "cell_type": "code",
   "execution_count": 65,
   "metadata": {
    "collapsed": false
   },
   "outputs": [
    {
     "data": {
      "text/plain": [
       "1.9768109936200895"
      ]
     },
     "execution_count": 65,
     "metadata": {},
     "output_type": "execute_result"
    }
   ],
   "source": [
    "alpha = 0.05\n",
    "tRej = stats.t.ppf(1 - (alpha / 2), n - 2)\n",
    "tRej"
   ]
  },
  {
   "cell_type": "markdown",
   "metadata": {
    "collapsed": true
   },
   "source": [
    "## 3.39\n",
    "\n",
    "### Answers\n",
    "\n",
    "* a) y = beta0 + beta1x\n",
    "* b) H0: beta1 = 0, H1: beta1 > 0\n",
    "* c) r = -.26; fairly weak negative correlation.  No: talpha = 1.656, t = -3.117, fail to reject H0"
   ]
  },
  {
   "cell_type": "code",
   "execution_count": 66,
   "metadata": {
    "collapsed": false
   },
   "outputs": [
    {
     "data": {
      "text/plain": [
       "-3.1169125292737547"
      ]
     },
     "execution_count": 66,
     "metadata": {},
     "output_type": "execute_result"
    }
   ],
   "source": [
    "r = -0.26\n",
    "n = 136\n",
    "t = (r * math.sqrt(n - 2)) / (math.sqrt(1 - math.pow(r, 2)))\n",
    "t"
   ]
  },
  {
   "cell_type": "code",
   "execution_count": 67,
   "metadata": {
    "collapsed": false
   },
   "outputs": [
    {
     "data": {
      "text/plain": [
       "1.6563045418965052"
      ]
     },
     "execution_count": 67,
     "metadata": {},
     "output_type": "execute_result"
    }
   ],
   "source": [
    "alpha = 0.05\n",
    "tRej = stats.t.ppf(1 - (alpha), n - 2)\n",
    "tRej"
   ]
  },
  {
   "cell_type": "markdown",
   "metadata": {
    "collapsed": true
   },
   "source": [
    "## 3.41\n",
    "\n",
    "### Answers\n",
    "\n",
    "* r = 0.570, r^2 = 0.325\n",
    "* 32.5% of variability in recovery time is explained by lactate levels"
   ]
  },
  {
   "cell_type": "code",
   "execution_count": 68,
   "metadata": {
    "collapsed": false
   },
   "outputs": [
    {
     "name": "stdout",
     "output_type": "stream",
     "text": [
      "r: 0.570183 , r^2: 0.325108\n"
     ]
    }
   ],
   "source": [
    "r = boxing.corr()['lactate']['recovery']\n",
    "rSq = math.pow(r, 2)\n",
    "print(\"r: %f , r^2: %f\" % (r, rSq))"
   ]
  },
  {
   "cell_type": "markdown",
   "metadata": {
    "collapsed": true
   },
   "source": [
    "## 3.43\n",
    "\n",
    "### Answers\n",
    "\n",
    "* a) negative\n",
    "* b) -0.09086"
   ]
  },
  {
   "cell_type": "markdown",
   "metadata": {},
   "source": [
    "## 3.45\n",
    "\n",
    "### Background\n",
    "\n",
    "* n = 20\n",
    "* yHat = 2.1 + 3.4x\n",
    "* mean x = 2.5\n",
    "* mean y = 10.6\n",
    "* SSxx = 4.77\n",
    "* SSyy = 59.21\n",
    "* SSxy = 16.22\n",
    "\n",
    "### Answers\n",
    "\n",
    "* a) sse: 4.055199, s^2: 0.225289\n",
    "* b) 95% CI for E(y) when x = 2.5; interpret\n",
    "* c) 95% CI for E(y) when x = 2.0; interpret\n",
    "* d) 95% CI for E(y) when x = 3.0; interpret\n",
    "* e) what happens to CI width as x moves away from mean-x? : gets wider\n",
    "* f) 95% CI for individual y when x = 3.0; interpret"
   ]
  },
  {
   "cell_type": "code",
   "execution_count": 69,
   "metadata": {
    "collapsed": false
   },
   "outputs": [],
   "source": [
    "n = 20\n",
    "def yHat(x):\n",
    "    return 2.1 + 3.4 * x\n",
    "xBar = 2.5\n",
    "yBar = 10.6\n",
    "SSxx = 4.77\n",
    "SSyy = 59.21\n",
    "SSxy = 16.22"
   ]
  },
  {
   "cell_type": "code",
   "execution_count": 70,
   "metadata": {
    "collapsed": false
   },
   "outputs": [
    {
     "name": "stdout",
     "output_type": "stream",
     "text": [
      "sse: 4.055199, s^2: 0.225289\n"
     ]
    }
   ],
   "source": [
    "beta1 = SSxy / SSxx\n",
    "SSE = SSyy - beta1 * SSxy\n",
    "sSquared = SSE / (n - 2)\n",
    "print(\"sse: %f, s^2: %f\" % (SSE, sSquared))"
   ]
  },
  {
   "cell_type": "code",
   "execution_count": 71,
   "metadata": {
    "collapsed": false
   },
   "outputs": [
    {
     "data": {
      "text/plain": [
       "0.21732548231248094"
      ]
     },
     "execution_count": 71,
     "metadata": {},
     "output_type": "execute_result"
    }
   ],
   "source": [
    "sBeta1 = math.sqrt(sSquared) / math.sqrt(SSxx)\n",
    "sBeta1"
   ]
  },
  {
   "cell_type": "code",
   "execution_count": 72,
   "metadata": {
    "collapsed": true
   },
   "outputs": [],
   "source": [
    "import scipy.stats as stats"
   ]
  },
  {
   "cell_type": "code",
   "execution_count": 73,
   "metadata": {
    "collapsed": true
   },
   "outputs": [],
   "source": [
    "# ci for mean y\n",
    "\n",
    "def ci_mean(yHat, xp, xBar, SSxx, s, n, alpha):\n",
    "    t = stats.t.ppf(1 - (alpha / 2), n - 2)\n",
    "    modifier = t * s * math.sqrt(1 / n + math.pow(xp - xBar, 2) / SSxx)\n",
    "    return ((yHat - modifier, yHat + modifier), (yHat, modifier))"
   ]
  },
  {
   "cell_type": "code",
   "execution_count": 74,
   "metadata": {
    "collapsed": false
   },
   "outputs": [
    {
     "data": {
      "text/plain": [
       "((10.377020580246754, 10.822979419753246), (10.6, 0.22297941975324528))"
      ]
     },
     "execution_count": 74,
     "metadata": {},
     "output_type": "execute_result"
    }
   ],
   "source": [
    "xp = 2.5\n",
    "ci_mean(yHat(xp), xp, xBar, SSxx, math.sqrt(sSquared), n, 0.05)"
   ]
  },
  {
   "cell_type": "code",
   "execution_count": 75,
   "metadata": {
    "collapsed": false
   },
   "outputs": [
    {
     "data": {
      "text/plain": [
       "((8.5808808450033229, 9.2191191549966778), (8.9, 0.31911915499667787))"
      ]
     },
     "execution_count": 75,
     "metadata": {},
     "output_type": "execute_result"
    }
   ],
   "source": [
    "xp = 2.0\n",
    "ci_mean(yHat(xp), xp, xBar, SSxx, math.sqrt(sSquared), n, 0.05)"
   ]
  },
  {
   "cell_type": "code",
   "execution_count": 76,
   "metadata": {
    "collapsed": false
   },
   "outputs": [
    {
     "data": {
      "text/plain": [
       "((11.980880845003322, 12.619119154996676),\n",
       " (12.299999999999999, 0.31911915499667787))"
      ]
     },
     "execution_count": 76,
     "metadata": {},
     "output_type": "execute_result"
    }
   ],
   "source": [
    "xp = 3.0\n",
    "ci_mean(yHat(xp), xp, xBar, SSxx, math.sqrt(sSquared), n, 0.05)"
   ]
  },
  {
   "cell_type": "code",
   "execution_count": 77,
   "metadata": {
    "collapsed": true
   },
   "outputs": [],
   "source": [
    "# ci for mean y\n",
    "\n",
    "def ci_prediction(yHat, xp, xBar, SSxx, s, n, alpha):\n",
    "    t = stats.t.ppf(1 - (alpha / 2), n - 2)\n",
    "    modifier = t * s * math.sqrt(1 + 1 / n + math.pow(xp - xBar, 2) / SSxx)\n",
    "    return ((yHat - modifier, yHat + modifier), (yHat, modifier))"
   ]
  },
  {
   "cell_type": "code",
   "execution_count": 78,
   "metadata": {
    "collapsed": false
   },
   "outputs": [
    {
     "data": {
      "text/plain": [
       "((11.252988315368126, 13.347011684631871),\n",
       " (12.299999999999999, 1.0470116846318731))"
      ]
     },
     "execution_count": 78,
     "metadata": {},
     "output_type": "execute_result"
    }
   ],
   "source": [
    "xp = 3.0\n",
    "ci_prediction(yHat(xp), xp, xBar, SSxx, math.sqrt(sSquared), n, 0.05)"
   ]
  },
  {
   "cell_type": "markdown",
   "metadata": {},
   "source": [
    "## 3.47\n",
    "\n",
    "### Answers\n",
    "\n",
    "* a) 90% prediction CI for x = 10\n",
    "* b) 90% mean CI for x = 10\n",
    "* c) compare: as expected, the prediction interval (+/- 0.0444) is wider than the mean interval (+/- 0.347)\n",
    "* d) yes in both cases, but for prediction, there's a lower limit"
   ]
  },
  {
   "cell_type": "code",
   "execution_count": 79,
   "metadata": {
    "collapsed": false
   },
   "outputs": [
    {
     "name": "stdout",
     "output_type": "stream",
     "text": [
      "sse: 0.000680, s^2: 0.000052\n"
     ]
    }
   ],
   "source": [
    "n = len(wh)\n",
    "SSxx = wh.vehicles.var() * (n - 1)\n",
    "SSyy = wh.time.var() * (n - 1)\n",
    "SSxy = wh.cov()['time']['vehicles'] * (n - 1)\n",
    "yBar = wh.time.mean()\n",
    "xBar = wh.vehicles.mean()\n",
    "\n",
    "beta1 = SSxy / SSxx\n",
    "beta0 = yBar - beta1 * xBar\n",
    "\n",
    "def yHat(x):\n",
    "    return beta0 + beta1 * x\n",
    "\n",
    "SSE = SSyy - beta1 * SSxy\n",
    "sSquared = SSE / (n - 2)\n",
    "print(\"sse: %f, s^2: %f\" % (SSE, sSquared))"
   ]
  },
  {
   "cell_type": "code",
   "execution_count": 80,
   "metadata": {
    "collapsed": false
   },
   "outputs": [
    {
     "data": {
      "text/plain": [
       "((0.017774131608907701, 0.044416344581568491),\n",
       " (0.031095238095238096, 0.013321106486330395))"
      ]
     },
     "execution_count": 80,
     "metadata": {},
     "output_type": "execute_result"
    }
   ],
   "source": [
    "xp = 10\n",
    "ci_prediction(yHat(xp), xp, xBar, SSxx, math.sqrt(sSquared), n, 0.10)"
   ]
  },
  {
   "cell_type": "code",
   "execution_count": 81,
   "metadata": {
    "collapsed": false
   },
   "outputs": [
    {
     "data": {
      "text/plain": [
       "((0.027449782335920853, 0.034740693854555339),\n",
       " (0.031095238095238096, 0.0036454557593172442))"
      ]
     },
     "execution_count": 81,
     "metadata": {},
     "output_type": "execute_result"
    }
   ],
   "source": [
    "xp = 10\n",
    "ci_mean(yHat(xp), xp, xBar, SSxx, math.sqrt(sSquared), n, 0.10)"
   ]
  },
  {
   "cell_type": "markdown",
   "metadata": {},
   "source": [
    "## 3.49\n",
    "\n",
    "### Answers\n",
    "\n",
    "* a) predicted value is between 1.0516 and 6.6347 with confidence level of 95%\n",
    "* b) the interval would be narrower\n",
    "* c) no - this extrapolates outside the range of values used as training data for building the model"
   ]
  },
  {
   "cell_type": "markdown",
   "metadata": {},
   "source": [
    "## 3.51\n",
    "\n",
    "### Answers\n",
    "\n",
    "* a) y = b0 + b1 x;  [duration (m) = b0 + b1 * frequency (days/yr)]\n",
    "* b) y = 155.911944 + -1.086374 * x\n",
    "* c) yes: t = -2.05, tRej = 1.83\n",
    "    - ?? not clear on why the answer key indicates this fails to reject H0\n",
    "* d) yPred @ x = 25 w/ 95% CI, -21.581917349936532, 279.08710195223887\n",
    "    - 128.75259230115117 +/- 150.3345096510877\n",
    "    - ?? answer key shows 238.76 +/- 150.32 -> not clear on how they arrived at that base prediction value"
   ]
  },
  {
   "cell_type": "code",
   "execution_count": 82,
   "metadata": {
    "collapsed": false
   },
   "outputs": [
    {
     "data": {
      "text/html": [
       "<div>\n",
       "<table border=\"1\" class=\"dataframe\">\n",
       "  <thead>\n",
       "    <tr style=\"text-align: right;\">\n",
       "      <th></th>\n",
       "      <th>activity</th>\n",
       "      <th>frequency</th>\n",
       "      <th>duration</th>\n",
       "    </tr>\n",
       "  </thead>\n",
       "  <tbody>\n",
       "    <tr>\n",
       "      <th>0</th>\n",
       "      <td>Jogging</td>\n",
       "      <td>135</td>\n",
       "      <td>43</td>\n",
       "    </tr>\n",
       "    <tr>\n",
       "      <th>1</th>\n",
       "      <td>Cycling</td>\n",
       "      <td>68</td>\n",
       "      <td>99</td>\n",
       "    </tr>\n",
       "    <tr>\n",
       "      <th>2</th>\n",
       "      <td>Aerobic</td>\n",
       "      <td>44</td>\n",
       "      <td>61</td>\n",
       "    </tr>\n",
       "    <tr>\n",
       "      <th>3</th>\n",
       "      <td>Swimming</td>\n",
       "      <td>39</td>\n",
       "      <td>60</td>\n",
       "    </tr>\n",
       "    <tr>\n",
       "      <th>4</th>\n",
       "      <td>Volleyball</td>\n",
       "      <td>30</td>\n",
       "      <td>80</td>\n",
       "    </tr>\n",
       "  </tbody>\n",
       "</table>\n",
       "</div>"
      ],
      "text/plain": [
       "     activity  frequency  duration\n",
       "0     Jogging        135        43\n",
       "1     Cycling         68        99\n",
       "2     Aerobic         44        61\n",
       "3    Swimming         39        60\n",
       "4  Volleyball         30        80"
      ]
     },
     "execution_count": 82,
     "metadata": {},
     "output_type": "execute_result"
    }
   ],
   "source": [
    "sports = pd.read_table(\"../data/ch03/Japansports.dat\", names=[\"activity\", \"frequency\", \"duration\"])\n",
    "sports.head()"
   ]
  },
  {
   "cell_type": "code",
   "execution_count": 99,
   "metadata": {
    "collapsed": false
   },
   "outputs": [
    {
     "data": {
      "image/png": "[encoded data removed]",
      "text/plain": [
       "<matplotlib.figure.Figure at 0x11cf830b8>"
      ]
     },
     "metadata": {},
     "output_type": "display_data"
    }
   ],
   "source": [
    "plt.scatter(sports.frequency, sports.duration)\n",
    "\n",
    "plt.xlabel(\"frequency\")\n",
    "plt.ylabel(\"duration\")\n",
    "plt.title(\"ex 3.51\");"
   ]
  },
  {
   "cell_type": "code",
   "execution_count": 84,
   "metadata": {
    "collapsed": true
   },
   "outputs": [],
   "source": [
    "n = len(sports)\n",
    "SSxy = sports.cov()['frequency']['duration'] * (n - 1)\n",
    "SSxx = sports.frequency.var() * (n - 1)\n",
    "b1 = SSxy / SSxx\n",
    "b0 = sports.duration.mean() - b1 * sports.frequency.mean()"
   ]
  },
  {
   "cell_type": "code",
   "execution_count": 85,
   "metadata": {
    "collapsed": false,
    "scrolled": true
   },
   "outputs": [
    {
     "name": "stdout",
     "output_type": "stream",
     "text": [
      "y = 155.911944 + -1.086374 * x\n"
     ]
    }
   ],
   "source": [
    "print(\"y = %f + %f * x\" % (b0, b1))"
   ]
  },
  {
   "cell_type": "code",
   "execution_count": 86,
   "metadata": {
    "collapsed": false
   },
   "outputs": [
    {
     "data": {
      "text/html": [
       "<div>\n",
       "<table border=\"1\" class=\"dataframe\">\n",
       "  <thead>\n",
       "    <tr style=\"text-align: right;\">\n",
       "      <th></th>\n",
       "      <th>activity</th>\n",
       "      <th>frequency</th>\n",
       "      <th>duration</th>\n",
       "      <th>prediction</th>\n",
       "      <th>residual</th>\n",
       "    </tr>\n",
       "  </thead>\n",
       "  <tbody>\n",
       "    <tr>\n",
       "      <th>0</th>\n",
       "      <td>Jogging</td>\n",
       "      <td>135</td>\n",
       "      <td>43</td>\n",
       "      <td>9.251444</td>\n",
       "      <td>33.748556</td>\n",
       "    </tr>\n",
       "    <tr>\n",
       "      <th>1</th>\n",
       "      <td>Cycling</td>\n",
       "      <td>68</td>\n",
       "      <td>99</td>\n",
       "      <td>82.038507</td>\n",
       "      <td>16.961493</td>\n",
       "    </tr>\n",
       "    <tr>\n",
       "      <th>2</th>\n",
       "      <td>Aerobic</td>\n",
       "      <td>44</td>\n",
       "      <td>61</td>\n",
       "      <td>108.111485</td>\n",
       "      <td>-47.111485</td>\n",
       "    </tr>\n",
       "    <tr>\n",
       "      <th>3</th>\n",
       "      <td>Swimming</td>\n",
       "      <td>39</td>\n",
       "      <td>60</td>\n",
       "      <td>113.543355</td>\n",
       "      <td>-53.543355</td>\n",
       "    </tr>\n",
       "    <tr>\n",
       "      <th>4</th>\n",
       "      <td>Volleyball</td>\n",
       "      <td>30</td>\n",
       "      <td>80</td>\n",
       "      <td>123.320722</td>\n",
       "      <td>-43.320722</td>\n",
       "    </tr>\n",
       "    <tr>\n",
       "      <th>5</th>\n",
       "      <td>Tennis</td>\n",
       "      <td>21</td>\n",
       "      <td>100</td>\n",
       "      <td>133.098089</td>\n",
       "      <td>-33.098089</td>\n",
       "    </tr>\n",
       "    <tr>\n",
       "      <th>6</th>\n",
       "      <td>Softball</td>\n",
       "      <td>16</td>\n",
       "      <td>91</td>\n",
       "      <td>138.529959</td>\n",
       "      <td>-47.529959</td>\n",
       "    </tr>\n",
       "    <tr>\n",
       "      <th>7</th>\n",
       "      <td>Baseball</td>\n",
       "      <td>19</td>\n",
       "      <td>127</td>\n",
       "      <td>135.270837</td>\n",
       "      <td>-8.270837</td>\n",
       "    </tr>\n",
       "    <tr>\n",
       "      <th>8</th>\n",
       "      <td>Skating</td>\n",
       "      <td>7</td>\n",
       "      <td>115</td>\n",
       "      <td>148.307326</td>\n",
       "      <td>-33.307326</td>\n",
       "    </tr>\n",
       "    <tr>\n",
       "      <th>9</th>\n",
       "      <td>Skiing</td>\n",
       "      <td>10</td>\n",
       "      <td>249</td>\n",
       "      <td>145.048203</td>\n",
       "      <td>103.951797</td>\n",
       "    </tr>\n",
       "    <tr>\n",
       "      <th>10</th>\n",
       "      <td>Golf</td>\n",
       "      <td>5</td>\n",
       "      <td>262</td>\n",
       "      <td>150.480074</td>\n",
       "      <td>111.519926</td>\n",
       "    </tr>\n",
       "  </tbody>\n",
       "</table>\n",
       "</div>"
      ],
      "text/plain": [
       "      activity  frequency  duration  prediction    residual\n",
       "0      Jogging        135        43    9.251444   33.748556\n",
       "1      Cycling         68        99   82.038507   16.961493\n",
       "2      Aerobic         44        61  108.111485  -47.111485\n",
       "3     Swimming         39        60  113.543355  -53.543355\n",
       "4   Volleyball         30        80  123.320722  -43.320722\n",
       "5       Tennis         21       100  133.098089  -33.098089\n",
       "6     Softball         16        91  138.529959  -47.529959\n",
       "7     Baseball         19       127  135.270837   -8.270837\n",
       "8      Skating          7       115  148.307326  -33.307326\n",
       "9       Skiing         10       249  145.048203  103.951797\n",
       "10        Golf          5       262  150.480074  111.519926"
      ]
     },
     "execution_count": 86,
     "metadata": {},
     "output_type": "execute_result"
    }
   ],
   "source": [
    "sports['prediction'] = b0 + b1 * sports.frequency\n",
    "sports['residual'] = sports.duration - sports.prediction\n",
    "sports"
   ]
  },
  {
   "cell_type": "code",
   "execution_count": 87,
   "metadata": {
    "collapsed": false
   },
   "outputs": [
    {
     "data": {
      "text/plain": [
       "36164.7602200759"
      ]
     },
     "execution_count": 87,
     "metadata": {},
     "output_type": "execute_result"
    }
   ],
   "source": [
    "SSE = sports.residual.apply(lambda x: math.pow(x, 2)).sum()\n",
    "SSE"
   ]
  },
  {
   "cell_type": "code",
   "execution_count": 88,
   "metadata": {
    "collapsed": false
   },
   "outputs": [
    {
     "data": {
      "text/plain": [
       "4018.306691119544"
      ]
     },
     "execution_count": 88,
     "metadata": {},
     "output_type": "execute_result"
    }
   ],
   "source": [
    "sSquared = SSE / (n - 2)\n",
    "sSquared"
   ]
  },
  {
   "cell_type": "code",
   "execution_count": 89,
   "metadata": {
    "collapsed": false
   },
   "outputs": [
    {
     "data": {
      "text/plain": [
       "63.39011508996923"
      ]
     },
     "execution_count": 89,
     "metadata": {},
     "output_type": "execute_result"
    }
   ],
   "source": [
    "s = math.sqrt(sSquared)\n",
    "s"
   ]
  },
  {
   "cell_type": "code",
   "execution_count": 90,
   "metadata": {
    "collapsed": false
   },
   "outputs": [
    {
     "data": {
      "text/plain": [
       "0.5296202460925241"
      ]
     },
     "execution_count": 90,
     "metadata": {},
     "output_type": "execute_result"
    }
   ],
   "source": [
    "sBeta1 = s / math.sqrt(SSxx)\n",
    "sBeta1"
   ]
  },
  {
   "cell_type": "code",
   "execution_count": 91,
   "metadata": {
    "collapsed": false
   },
   "outputs": [
    {
     "data": {
      "text/plain": [
       "-2.0512321541195022"
      ]
     },
     "execution_count": 91,
     "metadata": {},
     "output_type": "execute_result"
    }
   ],
   "source": [
    "t = b1 / sBeta1\n",
    "t"
   ]
  },
  {
   "cell_type": "code",
   "execution_count": 92,
   "metadata": {
    "collapsed": false
   },
   "outputs": [
    {
     "data": {
      "text/plain": [
       "-1.8331129326536337"
      ]
     },
     "execution_count": 92,
     "metadata": {},
     "output_type": "execute_result"
    }
   ],
   "source": [
    "tRej = stats.t.ppf(0.05, n - 2)\n",
    "tRej"
   ]
  },
  {
   "cell_type": "code",
   "execution_count": 93,
   "metadata": {
    "collapsed": true
   },
   "outputs": [],
   "source": [
    "def yHat(x):\n",
    "    return b0 + b1 * x"
   ]
  },
  {
   "cell_type": "code",
   "execution_count": 94,
   "metadata": {
    "collapsed": false
   },
   "outputs": [
    {
     "data": {
      "text/plain": [
       "128.75259230115117"
      ]
     },
     "execution_count": 94,
     "metadata": {},
     "output_type": "execute_result"
    }
   ],
   "source": [
    "xp = 25\n",
    "alpha = 0.05\n",
    "yHat(xp)"
   ]
  },
  {
   "cell_type": "code",
   "execution_count": 95,
   "metadata": {
    "collapsed": false
   },
   "outputs": [
    {
     "data": {
      "text/plain": [
       "((-21.581917349936532, 279.08710195223887),\n",
       " (128.75259230115117, 150.3345096510877))"
      ]
     },
     "execution_count": 95,
     "metadata": {},
     "output_type": "execute_result"
    }
   ],
   "source": [
    "xp = 25\n",
    "ci_prediction(yHat(xp), xp, sports.frequency.mean(), SSxx, math.sqrt(sSquared), n, 0.05)"
   ]
  },
  {
   "cell_type": "code",
   "execution_count": 96,
   "metadata": {
    "collapsed": false
   },
   "outputs": [
    {
     "data": {
      "text/plain": [
       "155.91194425759289"
      ]
     },
     "execution_count": 96,
     "metadata": {},
     "output_type": "execute_result"
    }
   ],
   "source": [
    "b0"
   ]
  },
  {
   "cell_type": "code",
   "execution_count": 97,
   "metadata": {
    "collapsed": false
   },
   "outputs": [
    {
     "data": {
      "text/plain": [
       "-1.0863740782576692"
      ]
     },
     "execution_count": 97,
     "metadata": {},
     "output_type": "execute_result"
    }
   ],
   "source": [
    "b1"
   ]
  },
  {
   "cell_type": "code",
   "execution_count": 98,
   "metadata": {
    "collapsed": false
   },
   "outputs": [
    {
     "data": {
      "text/plain": [
       "128.75259230115117"
      ]
     },
     "execution_count": 98,
     "metadata": {},
     "output_type": "execute_result"
    }
   ],
   "source": [
    "b0 + b1 * 25"
   ]
  }
 ],
 "metadata": {
  "kernelspec": {
   "display_name": "Python 3",
   "language": "python",
   "name": "python3"
  },
  "language_info": {
   "codemirror_mode": {
    "name": "ipython",
    "version": 3
   },
   "file_extension": ".py",
   "mimetype": "text/x-python",
   "name": "python",
   "nbconvert_exporter": "python",
   "pygments_lexer": "ipython3",
   "version": "3.5.2"
  }
 },
 "nbformat": 4,
 "nbformat_minor": 0
}
